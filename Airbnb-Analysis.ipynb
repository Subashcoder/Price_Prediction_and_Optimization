{
	"metadata": {
		"kernelspec": {
			"name": "glue_pyspark",
			"display_name": "Glue PySpark",
			"language": "python"
		},
		"language_info": {
			"name": "Python_Glue_Session",
			"mimetype": "text/x-python",
			"codemirror_mode": {
				"name": "python",
				"version": 3
			},
			"pygments_lexer": "python3",
			"file_extension": ".py"
		}
	},
	"nbformat_minor": 4,
	"nbformat": 4,
	"cells": [
		{
			"cell_type": "markdown",
			"source": "# AWS Glue Studio Notebook\n##### You are now running a AWS Glue Studio notebook; To start using your notebook you need to start an AWS Glue Interactive Session.\n",
			"metadata": {
				"editable": true,
				"trusted": true
			}
		},
		{
			"cell_type": "markdown",
			"source": "#### Optional: Run this cell to see available notebook commands (\"magics\").\n",
			"metadata": {
				"editable": true,
				"trusted": true
			}
		},
		{
			"cell_type": "code",
			"source": "%help",
			"metadata": {
				"trusted": true,
				"editable": true
			},
			"execution_count": null,
			"outputs": []
		},
		{
			"cell_type": "markdown",
			"source": "####  Run this cell to set up and start your interactive session.\n",
			"metadata": {
				"editable": true,
				"trusted": true
			}
		},
		{
			"cell_type": "code",
			"source": "%idle_timeout 2880\n%glue_version 4.0\n%worker_type G.1X\n%number_of_workers 5\n\nimport sys\nfrom awsglue.transforms import *\nfrom awsglue.utils import getResolvedOptions\nfrom pyspark.context import SparkContext\nfrom awsglue.context import GlueContext\nfrom awsglue.job import Job\n  \nsc = SparkContext.getOrCreate()\nglueContext = GlueContext(sc)\nspark = glueContext.spark_session\njob = Job(glueContext)",
			"metadata": {
				"trusted": true,
				"editable": true
			},
			"execution_count": 1,
			"outputs": [
				{
					"name": "stdout",
					"text": "Welcome to the Glue Interactive Sessions Kernel\nFor more information on available magic commands, please type %help in any new cell.\n\nPlease view our Getting Started page to access the most up-to-date information on the Interactive Sessions kernel: https://docs.aws.amazon.com/glue/latest/dg/interactive-sessions.html\nInstalled kernel version: 1.0.5 \nCurrent idle_timeout is None minutes.\nidle_timeout has been set to 2880 minutes.\nSetting Glue version to: 4.0\nPrevious worker type: None\nSetting new worker type to: G.1X\nPrevious number of workers: None\nSetting new number of workers to: 5\nTrying to create a Glue session for the kernel.\nSession Type: glueetl\nWorker Type: G.1X\nNumber of Workers: 5\nIdle Timeout: 2880\nSession ID: cc6c8a84-5b08-4314-a1e7-d2bf8b1baea5\nApplying the following default arguments:\n--glue_kernel_version 1.0.5\n--enable-glue-datacatalog true\nWaiting for session cc6c8a84-5b08-4314-a1e7-d2bf8b1baea5 to get into ready status...\nSession cc6c8a84-5b08-4314-a1e7-d2bf8b1baea5 has been created.\n\n",
					"output_type": "stream"
				}
			]
		},
		{
			"cell_type": "markdown",
			"source": "#### Reading file\n",
			"metadata": {
				"editable": true,
				"trusted": true
			}
		},
		{
			"cell_type": "code",
			"source": "input_path = \"s3://pyspark-analysis/listing.csv.gz\"\n\n# Read the gzipped CSV file from S3 into a DynamicFrame\ndyf = glueContext.create_dynamic_frame.from_options(\n    connection_type=\"s3\",\n    connection_options={\"paths\": [input_path]},\n    format=\"csv\",\n    format_options={\n        \"withHeader\": True,\n        \"separator\": \",\",\n        \"compression\": \"gzip\"\n    }\n)\n\n# Convert the DynamicFrame to a DataFrame if needed\ndf = dyf.toDF()\n\n# Show the first few rows of the DataFrame\ndf.show(1)",
			"metadata": {
				"trusted": true,
				"editable": true
			},
			"execution_count": 81,
			"outputs": [
				{
					"name": "stdout",
					"text": "+------+--------------------+--------------+------------+---------------+--------------------+--------------------+---------------------+--------------------+-------+--------------------+-----------------+----------+-----------------+--------------------+------------------+------------------+--------------------+-----------------+--------------------+--------------------+--------------------+-------------------+-------------------------+--------------------+--------------------+----------------------+--------------------+----------------------+----------------------------+---------+----------+--------------------+---------------+------------+---------+--------------+--------+----+--------------------+-------+--------------+--------------+----------------------+----------------------+----------------------+----------------------+----------------------+----------------------+----------------+----------------+---------------+---------------+---------------+----------------+---------------------+-----------------+---------------------+----------------------+------------+-----------+--------------------+----------------------+-------------------------+---------------------+---------------------------+----------------------+-------------------+---------------+----------------+------------------------------+-------------------------------------------+--------------------------------------------+-------------------------------------------+-----------------+-----+\n|    id|         listing_url|     scrape_id|last_scraped|         source|                name|         description|neighborhood_overview|         picture_url|host_id|            host_url|        host_name|host_since|    host_location|          host_about|host_response_time|host_response_rate|host_acceptance_rate|host_is_superhost|  host_thumbnail_url|    host_picture_url|  host_neighbourhood|host_listings_count|host_total_listings_count|  host_verifications|host_has_profile_pic|host_identity_verified|       neighbourhood|neighbourhood_cleansed|neighbourhood_group_cleansed| latitude| longitude|       property_type|      room_type|accommodates|bathrooms|bathrooms_text|bedrooms|beds|           amenities|  price|minimum_nights|maximum_nights|minimum_minimum_nights|maximum_minimum_nights|minimum_maximum_nights|maximum_maximum_nights|minimum_nights_avg_ntm|maximum_nights_avg_ntm|calendar_updated|has_availability|availability_30|availability_60|availability_90|availability_365|calendar_last_scraped|number_of_reviews|number_of_reviews_ltm|number_of_reviews_l30d|first_review|last_review|review_scores_rating|review_scores_accuracy|review_scores_cleanliness|review_scores_checkin|review_scores_communication|review_scores_location|review_scores_value|        license|instant_bookable|calculated_host_listings_count|calculated_host_listings_count_entire_homes|calculated_host_listings_count_private_rooms|calculated_host_listings_count_shared_rooms|reviews_per_month|Month|\n+------+--------------------+--------------+------------+---------------+--------------------+--------------------+---------------------+--------------------+-------+--------------------+-----------------+----------+-----------------+--------------------+------------------+------------------+--------------------+-----------------+--------------------+--------------------+--------------------+-------------------+-------------------------+--------------------+--------------------+----------------------+--------------------+----------------------+----------------------------+---------+----------+--------------------+---------------+------------+---------+--------------+--------+----+--------------------+-------+--------------+--------------+----------------------+----------------------+----------------------+----------------------+----------------------+----------------------+----------------+----------------+---------------+---------------+---------------+----------------+---------------------+-----------------+---------------------+----------------------+------------+-----------+--------------------+----------------------+-------------------------+---------------------+---------------------------+----------------------+-------------------+---------------+----------------+------------------------------+-------------------------------------------+--------------------------------------------+-------------------------------------------+-----------------+-----+\n|  1419|https://www.airbn...|20240412141305|  2024-04-13|previous scrape|Beautiful home in...|This large, famil...| The apartment is ...|https://a0.muscac...|   1565|https://www.airbn...|        Alexandra|2008-08-08|Vancouver, Canada|I live in Vancouv...|                  |                  |                    |                f|https://a0.muscac...|https://a0.muscac...|    Commercial Drive|                1.0|                      1.0|  ['email', 'phone']|                   t|                     t|Neighborhood high...|       Little Portugal|                            |  43.6459| -79.42423|         Entire home|Entire home/apt|          10|         |       3 baths|     5.0|    |[\"Air conditionin...|       |            28|           730|                    28|                    28|                   730|                   730|                  28.0|                 730.0|                |               t|              0|              0|              0|               0|           2024-04-13|                6|                    0|                     0|  2015-07-19| 2017-08-07|                 5.0|                   5.0|                      5.0|                  5.0|                        5.0|                   5.0|                5.0|               |               f|                             1|                                          1|                                           0|                                          0|             0.06|April|\n|  8077|https://www.airbn...|20240412141305|  2024-04-13|previous scrape|Downtown Harbourf...|Guest room in a l...|                     |https://a0.muscac...|  22795|https://www.airbn...|   Kathie & Larry|2009-06-22|  Toronto, Canada|My husband and I ...|                  |                  |                    |                f|https://a0.muscac...|https://a0.muscac...|        Harbourfront|                2.0|                      3.0|  ['email', 'phone']|                   t|                     f|                    |  Waterfront Commun...|                            |  43.6408| -79.37673|Private room in r...|   Private room|           2|         |     1.5 baths|        |    |[\"Air conditionin...|       |           180|           365|                   180|                   180|                   365|                   365|                 180.0|                 365.0|                |                |              0|              0|              0|               0|           2024-04-13|              169|                    0|                     0|  2009-08-20| 2013-08-27|                4.84|                  4.81|                     4.89|                 4.87|                        4.9|                  4.92|               4.83|               |               f|                             2|                                          1|                                           1|                                          0|             0.95|April|\n| 26654|https://www.airbn...|20240412141305|  2024-04-13|    city scrape|World Class @ CN ...|CN Tower, TIFF Be...| There's a reason ...|https://a0.muscac...| 113345|https://www.airbn...|            Adela|2010-04-25|                 |Welcome to Toront...|      within a day|               92%|                 43%|                f|https://a0.muscac...|https://a0.muscac...|Entertainment Dis...|                5.0|                     10.0|['email', 'phone'...|                   t|                     t|Neighborhood high...|  Waterfront Commun...|                            | 43.64608| -79.39032|        Entire condo|Entire home/apt|           4|      1.0|        1 bath|     1.0| 2.0|[\"Electric stove\"...|$145.00|            28|          1125|                    28|                    28|                  1125|                  1125|                  28.0|                1125.0|                |               t|              0|              0|              0|             173|           2024-04-13|               42|                    2|                     0|  2011-01-05| 2023-09-01|                4.79|                  4.79|                     4.79|                 4.64|                       4.76|                  4.86|               4.67|               |               f|                             5|                                          5|                                           0|                                          0|             0.26|April|\n| 27423|https://www.airbn...|20240412141305|  2024-04-13|    city scrape|Executive Studio ...|Brand new, fully ...|                     |https://a0.muscac...| 118124|https://www.airbn...|            Brent|2010-05-04|  Toronto, Canada|I love to travel ...|    within an hour|              100%|                100%|                f|https://a0.muscac...|https://a0.muscac...|   Greenwood-Coxwell|                1.0|                      1.0|['email', 'phone'...|                   t|                     t|                    |       South Riverdale|                            | 43.66884| -79.32725|  Entire rental unit|Entire home/apt|           1|      1.0|        1 bath|     0.0| 1.0|[\"Wine glasses\", ...| $75.00|            90|           365|                    90|                    90|                   365|                   365|                  90.0|                 365.0|                |               t|              0|              0|              0|               0|           2024-04-13|               29|                    2|                     0|  2010-06-07| 2024-03-05|                4.93|                   5.0|                     4.86|                  5.0|                        5.0|                  4.86|               4.86|               |               f|                             1|                                          1|                                           0|                                          0|             0.17|April|\n| 30931|https://www.airbn...|20240412141305|  2024-04-13|previous scrape|Downtown Toronto ...|Split level water...|                     |https://a0.muscac...|  22795|https://www.airbn...|   Kathie & Larry|2009-06-22|  Toronto, Canada|My husband and I ...|                  |                  |                    |                f|https://a0.muscac...|https://a0.muscac...|        Harbourfront|                2.0|                      3.0|  ['email', 'phone']|                   t|                     f|                    |  Waterfront Commun...|                            | 43.64015| -79.37625|  Entire rental unit|Entire home/apt|           2|         |     1.5 baths|     1.0|    |[\"Air conditionin...|       |           180|           365|                   180|                   180|                   365|                   365|                 180.0|                 365.0|                |                |              0|              0|              0|               0|           2024-04-13|                1|                    0|                     0|  2010-08-11| 2010-08-11|                 5.0|                      |                         |                     |                           |                      |                   |               |               f|                             2|                                          1|                                           1|                                          0|             0.01|April|\n| 40456|https://www.airbn...|20240412141305|  2024-04-13|previous scrape|Downtown- King Si...|-----------------...| This is Nice Neig...|https://a0.muscac...| 174063|https://www.airbn...|            Denis|2010-07-20|  Toronto, Canada|I enjoy hosting t...|    within an hour|              100%|                100%|                t|https://a0.muscac...|https://a0.muscac...|            Parkdale|                4.0|                      5.0|  ['email', 'phone']|                   t|                     t|Neighborhood high...|        South Parkdale|                            | 43.63539|  -79.4401|         Entire home|Entire home/apt|           5|         |        1 bath|     2.0|    |[\"Dishes and silv...|       |           750|          1125|                   750|                   750|                  1125|                  1125|                 750.0|                1125.0|                |               t|             30|             60|             90|             365|           2024-04-13|              113|                    2|                     0|  2010-08-03| 2023-06-19|                4.64|                  4.65|                     4.67|                 4.95|                       4.96|                  4.58|               4.69|               |               f|                             4|                                          4|                                           0|                                          0|             0.68|April|\n| 43964|https://www.airbn...|20240412141305|  2024-04-13|previous scrape|Private Basement ...|Very bright 2-bdr...| - Super quiet fam...|https://a0.muscac...| 192364|https://www.airbn...|            Mitra|2010-08-05|  Toronto, Canada|Love to meet peop...|    within an hour|              100%|                 96%|                t|https://a0.muscac...|https://a0.muscac...|    Wexford/Maryvale|                1.0|                      1.0|  ['email', 'phone']|                   t|                     t|Neighborhood high...|      Wexford/Maryvale|                            | 43.74922| -79.29188|         Entire home|Entire home/apt|           4|         |        1 bath|     2.0|    |[\"Freezer\", \"Wine...|       |             1|            31|                     1|                     1|                    31|                    31|                   1.0|                  31.0|                |               t|              0|              0|              0|               0|           2024-04-13|               67|                   12|                     0|  2017-01-04| 2023-09-25|                4.96|                  4.96|                     4.99|                 4.99|                       4.97|                  4.85|               4.88|STR-2012-FMQPHC|               f|                             1|                                          1|                                           0|                                          0|             0.76|April|\n| 44452|https://www.airbn...|20240412141305|  2024-04-13|    city scrape|Yonge & Bloor Stu...|                    |                     |https://a0.muscac...| 195095|https://www.airbn...|           Urbano|2010-08-08|  Toronto, Canada|Boutique property...|within a few hours|              100%|                 77%|                t|https://a0.muscac...|https://a0.muscac...|            Rosedale|               12.0|                     19.0|  ['email', 'phone']|                   t|                     t|                    |   Rosedale-Moore Park|                            | 43.67193|  -79.3859|  Entire rental unit|Entire home/apt|           2|      1.0|        1 bath|     1.0| 1.0|[\"Dishes and silv...|$126.00|            28|           365|                    28|                    28|                   365|                   365|                  28.0|                 365.0|                |               t|              0|              0|              2|             277|           2024-04-13|               66|                    2|                     0|  2010-10-04| 2023-08-04|                4.18|                  4.52|                     4.03|                 4.79|                       4.84|                  4.95|               4.23|               |               f|                            12|                                          8|                                           4|                                          0|              0.4|April|\n| 44469|https://www.airbn...|20240412141305|  2024-04-13|    city scrape|Yonge & Bloor 2 B...|                    |                     |https://a0.muscac...| 195095|https://www.airbn...|           Urbano|2010-08-08|  Toronto, Canada|Boutique property...|within a few hours|              100%|                 77%|                t|https://a0.muscac...|https://a0.muscac...|            Rosedale|               12.0|                     19.0|  ['email', 'phone']|                   t|                     t|                    |   Rosedale-Moore Park|                            | 43.67129| -79.38634|Private room in r...|   Private room|           2|      1.0|        1 bath|     1.0| 1.0|[\"Dishes and silv...|$104.00|            30|          1000|                    30|                    30|                  1000|                  1000|                  30.0|                1000.0|                |               t|              0|             11|             41|             316|           2024-04-13|                8|                    0|                     0|  2011-09-22| 2017-08-27|                 4.0|                   4.5|                      4.0|                 4.38|                       4.75|                  4.75|               4.13|               |               f|                            12|                                          8|                                           4|                                          0|             0.05|April|\n| 45399|https://www.airbn...|20240412141305|  2024-04-13|    city scrape|Fountain View Stu...|Open Space studio...| Amazing neighbour...|https://a0.muscac...| 195095|https://www.airbn...|           Urbano|2010-08-08|  Toronto, Canada|Boutique property...|within a few hours|              100%|                 77%|                t|https://a0.muscac...|https://a0.muscac...|            Rosedale|               12.0|                     19.0|  ['email', 'phone']|                   t|                     t|Neighborhood high...|   Bay Street Corridor|                            | 43.66123| -79.38336|        Entire condo|Entire home/apt|           3|      1.0|        1 bath|     0.0| 1.0|[\"Gym\", \"Dishes a...|$148.00|            28|          1100|                    28|                    28|                  1100|                  1100|                  28.0|                1100.0|                |               t|              4|             13|             16|             255|           2024-04-13|               86|                    3|                     0|  2010-10-29| 2023-11-19|                4.16|                  4.49|                     3.95|                 4.63|                       4.69|                  4.92|               4.21|               |               f|                            12|                                          8|                                           4|                                          0|             0.52|April|\n| 45453|https://www.airbn...|20240412141305|  2024-04-13|    city scrape|Yonge & Bloor 2 B...|                    |                     |https://a0.muscac...| 195095|https://www.airbn...|           Urbano|2010-08-08|  Toronto, Canada|Boutique property...|within a few hours|              100%|                 77%|                t|https://a0.muscac...|https://a0.muscac...|            Rosedale|               12.0|                     19.0|  ['email', 'phone']|                   t|                     t|                    |   Rosedale-Moore Park|                            | 43.67128| -79.38422|Private room in r...|   Private room|           2|      1.0|        1 bath|     1.0| 1.0|[\"Hangers\", \"Air ...|$105.00|            28|           365|                    28|                    28|                   365|                   365|                  28.0|                 365.0|                |               t|              0|              0|              0|             102|           2024-04-13|                9|                    0|                     0|  2011-09-17| 2018-09-02|                4.13|                  4.33|                     3.11|                 4.44|                       4.56|                   5.0|               4.44|               |               f|                            12|                                          8|                                           4|                                          0|             0.06|April|\n| 45893|https://www.airbn...|20240412141305|  2024-04-13|    city scrape|Yonge & Bloor Lak...|                    |                     |https://a0.muscac...| 195095|https://www.airbn...|           Urbano|2010-08-08|  Toronto, Canada|Boutique property...|within a few hours|              100%|                 77%|                t|https://a0.muscac...|https://a0.muscac...|            Rosedale|               12.0|                     19.0|  ['email', 'phone']|                   t|                     t|                    |   Rosedale-Moore Park|                            |  43.6718| -79.38488|Private room in r...|   Private room|           2|      1.0|1 private bath|     1.0| 1.0|[\"Dishes and silv...| $90.00|            28|          1125|                    28|                    28|                  1125|                  1125|                  28.0|                1125.0|                |               t|              0|              0|              0|             115|           2024-04-13|               22|                    2|                     0|  2010-10-10| 2023-06-24|                4.39|                  4.26|                     3.89|                 4.47|                       4.79|                  4.84|               4.21|               |               f|                            12|                                          8|                                           4|                                          0|             0.13|April|\n| 50110|https://www.airbn...|20240412141305|  2024-04-13|    city scrape|Yorkville one bed...|Offering a great ...| The neighbourhood...|https://a0.muscac...| 195095|https://www.airbn...|           Urbano|2010-08-08|  Toronto, Canada|Boutique property...|within a few hours|              100%|                 77%|                t|https://a0.muscac...|https://a0.muscac...|            Rosedale|               12.0|                     19.0|  ['email', 'phone']|                   t|                     t|Neighborhood high...|  Church-Yonge Corr...|                            | 43.66899| -79.38559|        Entire condo|Entire home/apt|           3|      1.0|        1 bath|     1.0| 1.0|[\"Gym\", \"Dishes a...|$163.00|            28|          1100|                    28|                    28|                  1100|                  1100|                  28.0|                1100.0|                |               t|              5|             14|             14|             240|           2024-04-13|               59|                    1|                     0|  2010-11-20| 2023-12-08|                4.62|                  4.79|                     4.42|                 4.79|                       4.86|                  4.91|               4.52|               |               f|                            12|                                          8|                                           4|                                          0|             0.36|April|\n| 51616|https://www.airbn...|20240412141305|  2024-04-13|previous scrape|Large room in tre...|My place is near ...| Near the hopping ...|https://a0.muscac...| 237587|https://www.airbn...|             John|2010-09-17|  Toronto, Canada|                    |                  |                  |                    |                f|https://a0.muscac...|https://a0.muscac...|             Niagara|                1.0|                      1.0|  ['email', 'phone']|                   t|                     t|Neighborhood high...|               Niagara|                            | 43.64296| -79.40451|Private room in c...|   Private room|           2|         | 1 shared bath|     1.0|    |[\"Dishes and silv...|       |            91|           125|                    91|                    91|                   125|                   125|                  91.0|                 125.0|                |                |              0|              0|              0|               0|           2024-04-13|               24|                    0|                     0|  2016-08-10| 2018-11-11|                4.88|                  4.96|                      5.0|                 4.88|                        5.0|                  4.92|               4.83|               |               f|                             1|                                          0|                                           1|                                          0|             0.26|April|\n|728817|https://www.airbn...|20240412141305|  2024-04-13|    city scrape|Bright Victorian ...|                    |                     |https://a0.muscac...|3783106|https://www.airbn...|Jeremy And Monica|2012-10-06|  Toronto, Canada|We're a well-roun...|                  |                  |                 67%|                f|https://a0.muscac...|https://a0.muscac...|        Roncesvalles|                1.0|                      1.0|  ['email', 'phone']|                   t|                     t|                    |          Roncesvalles|                            | 43.64147| -79.44633|         Entire home|Entire home/apt|           7|      2.5|     2.5 baths|     4.0| 4.0|[\"Freezer\", \"Wine...|$390.00|            28|            28|                    28|                    28|                    28|                    28|                  28.0|                  28.0|                |               t|              8|              8|             18|             144|           2024-04-13|               14|                    2|                     0|  2013-08-04| 2023-07-25|                 5.0|                   5.0|                     4.86|                  5.0|                        5.0|                   5.0|               4.64|STR-2012-HGVHHJ|               f|                             1|                                          1|                                           0|                                          0|             0.11|April|\n| 62545|https://www.airbn...|20240412141305|  2024-04-13|    city scrape|Furnished Heritag...|                    |                     |https://a0.muscac...| 304551|https://www.airbn...|           Kintoo|2010-11-29|  Toronto, Canada|We are privileged...|within a few hours|              100%|                 95%|                f|https://a0.muscac...|https://a0.muscac...|             Niagara|               11.0|                     18.0|  ['email', 'phone']|                   t|                     t|                    |               Niagara|                            | 43.64611|  -79.4071|Private room in home|   Private room|           1|      0.5|     Half-bath|     1.0| 1.0|[\"Air conditionin...| $50.00|            90|          1125|                    90|                    90|                  1125|                  1125|                  90.0|                1125.0|                |               t|              0|              0|              0|             133|           2024-04-13|               23|                    0|                     0|  2010-12-27| 2019-12-20|                4.85|                  4.69|                     4.69|                 4.94|                       4.88|                  4.75|               4.75|               |               f|                             8|                                          3|                                           5|                                          0|             0.14|April|\n|756619|https://www.airbn...|20240412141305|  2024-04-12|    city scrape|Winchester Suite ...|This beautifully ...| A peaceful friend...|https://a0.muscac...|3982898|https://www.airbn...|           Andrew|2012-10-26|  Toronto, Canada|I'm a caterer / e...|    within an hour|              100%|                 97%|                t|https://a0.muscac...|https://a0.muscac...|         Cabbagetown|                5.0|                      5.0|['email', 'phone'...|                   t|                     t|Neighborhood high...|  Cabbagetown-South...|                            |43.664642|-79.371208|Private room in home|   Private room|           1|      1.0| 1 shared bath|     1.0| 1.0|[\"Courtyard view\"...|$111.00|             3|           180|                     2|                     3|                    21|                   180|                   3.0|                 165.7|                |               t|              3|             11|             18|             137|           2024-04-12|              108|                   28|                     0|  2013-07-05| 2024-01-01|                4.92|                  4.92|                     4.93|                 4.91|                       4.93|                   4.9|               4.83|STR-2010-HLLXPK|               f|                             3|                                          1|                                           2|                                          0|             0.82|April|\n| 64635|https://www.airbn...|20240412141305|  2024-04-13|    city scrape|Furnished Heritag...|                    |                     |https://a0.muscac...| 304551|https://www.airbn...|           Kintoo|2010-11-29|  Toronto, Canada|We are privileged...|within a few hours|              100%|                 95%|                f|https://a0.muscac...|https://a0.muscac...|             Niagara|               11.0|                     18.0|  ['email', 'phone']|                   t|                     t|                    |               Niagara|                            | 43.64482| -79.40897|Private room in home|   Private room|           1|      0.5|     Half-bath|     1.0| 1.0|[\"Air conditionin...| $50.00|           120|          1125|                   120|                   120|                  1125|                  1125|                 120.0|                1125.0|                |               t|              4|              4|              4|             138|           2024-04-13|               17|                    2|                     0|  2011-08-12| 2023-09-01|                4.59|                  4.71|                     4.24|                 4.88|                       4.65|                  4.94|               4.41|               |               f|                             8|                                          3|                                           5|                                          0|             0.11|April|\n| 64641|https://www.airbn...|20240412141305|  2024-04-13|    city scrape|Furnished Heritag...|                    |                     |https://a0.muscac...| 304551|https://www.airbn...|           Kintoo|2010-11-29|  Toronto, Canada|We are privileged...|within a few hours|              100%|                 95%|                f|https://a0.muscac...|https://a0.muscac...|             Niagara|               11.0|                     18.0|  ['email', 'phone']|                   t|                     t|                    |               Niagara|                            | 43.64453| -79.40736|Private room in home|   Private room|           1|      0.5|     Half-bath|     1.0| 1.0|[\"Hangers\", \"Bed ...| $50.00|           120|          1125|                   120|                   120|                  1125|                  1125|                 120.0|                1125.0|                |               t|              1|              1|              1|             114|           2024-04-13|               23|                    3|                     0|  2011-01-01| 2023-12-30|                4.82|                  4.74|                     4.48|                 4.91|                       4.91|                  4.87|               4.61|               |               f|                             8|                                          3|                                           5|                                          0|             0.14|April|\n| 66856|https://www.airbn...|20240412141305|  2024-04-13|    city scrape|Furnished Downtow...|Our lovingly rest...|                     |https://a0.muscac...| 304551|https://www.airbn...|           Kintoo|2010-11-29|  Toronto, Canada|We are privileged...|within a few hours|              100%|                 95%|                f|https://a0.muscac...|https://a0.muscac...|             Niagara|               11.0|                     18.0|  ['email', 'phone']|                   t|                     t|                    |               Niagara|                            | 43.64642| -79.40736|Private room in home|   Private room|           1|      1.0| 1 shared bath|     1.0| 1.0|[\"Air conditionin...| $50.00|           120|           365|                   120|                   120|                   365|                   365|                 120.0|                 365.0|                |               t|              0|             11|             41|             316|           2024-04-13|                4|                    3|                     0|  2011-02-10| 2024-02-28|                 5.0|                   5.0|                      5.0|                  5.0|                        5.0|                   5.0|                5.0|               |               f|                             8|                                          3|                                           5|                                          0|             0.02|April|\n+------+--------------------+--------------+------------+---------------+--------------------+--------------------+---------------------+--------------------+-------+--------------------+-----------------+----------+-----------------+--------------------+------------------+------------------+--------------------+-----------------+--------------------+--------------------+--------------------+-------------------+-------------------------+--------------------+--------------------+----------------------+--------------------+----------------------+----------------------------+---------+----------+--------------------+---------------+------------+---------+--------------+--------+----+--------------------+-------+--------------+--------------+----------------------+----------------------+----------------------+----------------------+----------------------+----------------------+----------------+----------------+---------------+---------------+---------------+----------------+---------------------+-----------------+---------------------+----------------------+------------+-----------+--------------------+----------------------+-------------------------+---------------------+---------------------------+----------------------+-------------------+---------------+----------------+------------------------------+-------------------------------------------+--------------------------------------------+-------------------------------------------+-----------------+-----+\nonly showing top 20 rows\n",
					"output_type": "stream"
				}
			]
		},
		{
			"cell_type": "markdown",
			"source": "#### Example: Convert the DynamicFrame to a Spark DataFrame and display a sample of the data\n",
			"metadata": {
				"editable": true,
				"trusted": true
			}
		},
		{
			"cell_type": "code",
			"source": "df = dyf.toDF()\ndf.show(5)",
			"metadata": {
				"trusted": true,
				"editable": true
			},
			"execution_count": null,
			"outputs": [
				{
					"name": "stdout",
					"text": "+-----+--------------------+--------------+------------+---------------+--------------------+--------------------+---------------------+--------------------+-------+--------------------+--------------+----------+-----------------+--------------------+------------------+------------------+--------------------+-----------------+--------------------+--------------------+--------------------+-------------------+-------------------------+--------------------+--------------------+----------------------+--------------------+----------------------+----------------------------+--------+---------+--------------------+---------------+------------+---------+--------------+--------+----+--------------------+-------+--------------+--------------+----------------------+----------------------+----------------------+----------------------+----------------------+----------------------+----------------+----------------+---------------+---------------+---------------+----------------+---------------------+-----------------+---------------------+----------------------+------------+-----------+--------------------+----------------------+-------------------------+---------------------+---------------------------+----------------------+-------------------+-------+----------------+------------------------------+-------------------------------------------+--------------------------------------------+-------------------------------------------+-----------------+-----+\n|   id|         listing_url|     scrape_id|last_scraped|         source|                name|         description|neighborhood_overview|         picture_url|host_id|            host_url|     host_name|host_since|    host_location|          host_about|host_response_time|host_response_rate|host_acceptance_rate|host_is_superhost|  host_thumbnail_url|    host_picture_url|  host_neighbourhood|host_listings_count|host_total_listings_count|  host_verifications|host_has_profile_pic|host_identity_verified|       neighbourhood|neighbourhood_cleansed|neighbourhood_group_cleansed|latitude|longitude|       property_type|      room_type|accommodates|bathrooms|bathrooms_text|bedrooms|beds|           amenities|  price|minimum_nights|maximum_nights|minimum_minimum_nights|maximum_minimum_nights|minimum_maximum_nights|maximum_maximum_nights|minimum_nights_avg_ntm|maximum_nights_avg_ntm|calendar_updated|has_availability|availability_30|availability_60|availability_90|availability_365|calendar_last_scraped|number_of_reviews|number_of_reviews_ltm|number_of_reviews_l30d|first_review|last_review|review_scores_rating|review_scores_accuracy|review_scores_cleanliness|review_scores_checkin|review_scores_communication|review_scores_location|review_scores_value|license|instant_bookable|calculated_host_listings_count|calculated_host_listings_count_entire_homes|calculated_host_listings_count_private_rooms|calculated_host_listings_count_shared_rooms|reviews_per_month|Month|\n+-----+--------------------+--------------+------------+---------------+--------------------+--------------------+---------------------+--------------------+-------+--------------------+--------------+----------+-----------------+--------------------+------------------+------------------+--------------------+-----------------+--------------------+--------------------+--------------------+-------------------+-------------------------+--------------------+--------------------+----------------------+--------------------+----------------------+----------------------------+--------+---------+--------------------+---------------+------------+---------+--------------+--------+----+--------------------+-------+--------------+--------------+----------------------+----------------------+----------------------+----------------------+----------------------+----------------------+----------------+----------------+---------------+---------------+---------------+----------------+---------------------+-----------------+---------------------+----------------------+------------+-----------+--------------------+----------------------+-------------------------+---------------------+---------------------------+----------------------+-------------------+-------+----------------+------------------------------+-------------------------------------------+--------------------------------------------+-------------------------------------------+-----------------+-----+\n| 1419|https://www.airbn...|20240412141305|  2024-04-13|previous scrape|Beautiful home in...|This large, famil...| The apartment is ...|https://a0.muscac...|   1565|https://www.airbn...|     Alexandra|2008-08-08|Vancouver, Canada|I live in Vancouv...|                  |                  |                    |                f|https://a0.muscac...|https://a0.muscac...|    Commercial Drive|                1.0|                      1.0|  ['email', 'phone']|                   t|                     t|Neighborhood high...|       Little Portugal|                            | 43.6459|-79.42423|         Entire home|Entire home/apt|          10|         |       3 baths|     5.0|    |[\"Air conditionin...|       |            28|           730|                    28|                    28|                   730|                   730|                  28.0|                 730.0|                |               t|              0|              0|              0|               0|           2024-04-13|                6|                    0|                     0|  2015-07-19| 2017-08-07|                 5.0|                   5.0|                      5.0|                  5.0|                        5.0|                   5.0|                5.0|       |               f|                             1|                                          1|                                           0|                                          0|             0.06|April|\n| 8077|https://www.airbn...|20240412141305|  2024-04-13|previous scrape|Downtown Harbourf...|Guest room in a l...|                     |https://a0.muscac...|  22795|https://www.airbn...|Kathie & Larry|2009-06-22|  Toronto, Canada|My husband and I ...|                  |                  |                    |                f|https://a0.muscac...|https://a0.muscac...|        Harbourfront|                2.0|                      3.0|  ['email', 'phone']|                   t|                     f|                    |  Waterfront Commun...|                            | 43.6408|-79.37673|Private room in r...|   Private room|           2|         |     1.5 baths|        |    |[\"Air conditionin...|       |           180|           365|                   180|                   180|                   365|                   365|                 180.0|                 365.0|                |                |              0|              0|              0|               0|           2024-04-13|              169|                    0|                     0|  2009-08-20| 2013-08-27|                4.84|                  4.81|                     4.89|                 4.87|                        4.9|                  4.92|               4.83|       |               f|                             2|                                          1|                                           1|                                          0|             0.95|April|\n|26654|https://www.airbn...|20240412141305|  2024-04-13|    city scrape|World Class @ CN ...|CN Tower, TIFF Be...| There's a reason ...|https://a0.muscac...| 113345|https://www.airbn...|         Adela|2010-04-25|                 |Welcome to Toront...|      within a day|               92%|                 43%|                f|https://a0.muscac...|https://a0.muscac...|Entertainment Dis...|                5.0|                     10.0|['email', 'phone'...|                   t|                     t|Neighborhood high...|  Waterfront Commun...|                            |43.64608|-79.39032|        Entire condo|Entire home/apt|           4|      1.0|        1 bath|     1.0| 2.0|[\"Electric stove\"...|$145.00|            28|          1125|                    28|                    28|                  1125|                  1125|                  28.0|                1125.0|                |               t|              0|              0|              0|             173|           2024-04-13|               42|                    2|                     0|  2011-01-05| 2023-09-01|                4.79|                  4.79|                     4.79|                 4.64|                       4.76|                  4.86|               4.67|       |               f|                             5|                                          5|                                           0|                                          0|             0.26|April|\n|27423|https://www.airbn...|20240412141305|  2024-04-13|    city scrape|Executive Studio ...|Brand new, fully ...|                     |https://a0.muscac...| 118124|https://www.airbn...|         Brent|2010-05-04|  Toronto, Canada|I love to travel ...|    within an hour|              100%|                100%|                f|https://a0.muscac...|https://a0.muscac...|   Greenwood-Coxwell|                1.0|                      1.0|['email', 'phone'...|                   t|                     t|                    |       South Riverdale|                            |43.66884|-79.32725|  Entire rental unit|Entire home/apt|           1|      1.0|        1 bath|     0.0| 1.0|[\"Wine glasses\", ...| $75.00|            90|           365|                    90|                    90|                   365|                   365|                  90.0|                 365.0|                |               t|              0|              0|              0|               0|           2024-04-13|               29|                    2|                     0|  2010-06-07| 2024-03-05|                4.93|                   5.0|                     4.86|                  5.0|                        5.0|                  4.86|               4.86|       |               f|                             1|                                          1|                                           0|                                          0|             0.17|April|\n|30931|https://www.airbn...|20240412141305|  2024-04-13|previous scrape|Downtown Toronto ...|Split level water...|                     |https://a0.muscac...|  22795|https://www.airbn...|Kathie & Larry|2009-06-22|  Toronto, Canada|My husband and I ...|                  |                  |                    |                f|https://a0.muscac...|https://a0.muscac...|        Harbourfront|                2.0|                      3.0|  ['email', 'phone']|                   t|                     f|                    |  Waterfront Commun...|                            |43.64015|-79.37625|  Entire rental unit|Entire home/apt|           2|         |     1.5 baths|     1.0|    |[\"Air conditionin...|       |           180|           365|                   180|                   180|                   365|                   365|                 180.0|                 365.0|                |                |              0|              0|              0|               0|           2024-04-13|                1|                    0|                     0|  2010-08-11| 2010-08-11|                 5.0|                      |                         |                     |                           |                      |                   |       |               f|                             2|                                          1|                                           1|                                          0|             0.01|April|\n+-----+--------------------+--------------+------------+---------------+--------------------+--------------------+---------------------+--------------------+-------+--------------------+--------------+----------+-----------------+--------------------+------------------+------------------+--------------------+-----------------+--------------------+--------------------+--------------------+-------------------+-------------------------+--------------------+--------------------+----------------------+--------------------+----------------------+----------------------------+--------+---------+--------------------+---------------+------------+---------+--------------+--------+----+--------------------+-------+--------------+--------------+----------------------+----------------------+----------------------+----------------------+----------------------+----------------------+----------------+----------------+---------------+---------------+---------------+----------------+---------------------+-----------------+---------------------+----------------------+------------+-----------+--------------------+----------------------+-------------------------+---------------------+---------------------------+----------------------+-------------------+-------+----------------+------------------------------+-------------------------------------------+--------------------------------------------+-------------------------------------------+-----------------+-----+\nonly showing top 5 rows\n",
					"output_type": "stream"
				}
			]
		},
		{
			"cell_type": "markdown",
			"source": "#### Example: Visualize data with matplotlib\n",
			"metadata": {
				"editable": true,
				"trusted": true
			}
		},
		{
			"cell_type": "code",
			"source": "import matplotlib.pyplot as plt\n\n# Set X-axis and Y-axis values\nx = [5, 2, 8, 4, 9]\ny = [10, 4, 8, 5, 2]\n  \n# Create a bar chart \nplt.bar(x, y)\n  \n# Show the plot\n%matplot plt",
			"metadata": {
				"trusted": true,
				"editable": true
			},
			"execution_count": null,
			"outputs": [
				{
					"name": "stdout",
					"text": "<BarContainer object of 5 artists>\n\n",
					"output_type": "stream"
				},
				{
					"output_type": "display_data",
					"data": {
						"image/png": "[encoded data removed]"
					},
					"metadata": {
						"image/png": {
							"width": 640,
							"height": 480
						}
					}
				}
			]
		},
		{
			"cell_type": "markdown",
			"source": "#### Example: Write the data in the DynamicFrame to a location in Amazon S3 and a table for it in the AWS Glue Data Catalog\n",
			"metadata": {
				"editable": true,
				"trusted": true
			}
		},
		{
			"cell_type": "code",
			"source": "df.printSchema()",
			"metadata": {
				"trusted": true,
				"editable": true
			},
			"execution_count": null,
			"outputs": [
				{
					"name": "stdout",
					"text": "root\n |-- id: string (nullable = true)\n |-- listing_url: string (nullable = true)\n |-- scrape_id: string (nullable = true)\n |-- last_scraped: string (nullable = true)\n |-- source: string (nullable = true)\n |-- name: string (nullable = true)\n |-- description: string (nullable = true)\n |-- neighborhood_overview: string (nullable = true)\n |-- picture_url: string (nullable = true)\n |-- host_id: string (nullable = true)\n |-- host_url: string (nullable = true)\n |-- host_name: string (nullable = true)\n |-- host_since: string (nullable = true)\n |-- host_location: string (nullable = true)\n |-- host_about: string (nullable = true)\n |-- host_response_time: string (nullable = true)\n |-- host_response_rate: string (nullable = true)\n |-- host_acceptance_rate: string (nullable = true)\n |-- host_is_superhost: string (nullable = true)\n |-- host_thumbnail_url: string (nullable = true)\n |-- host_picture_url: string (nullable = true)\n |-- host_neighbourhood: string (nullable = true)\n |-- host_listings_count: string (nullable = true)\n |-- host_total_listings_count: string (nullable = true)\n |-- host_verifications: string (nullable = true)\n |-- host_has_profile_pic: string (nullable = true)\n |-- host_identity_verified: string (nullable = true)\n |-- neighbourhood: string (nullable = true)\n |-- neighbourhood_cleansed: string (nullable = true)\n |-- neighbourhood_group_cleansed: string (nullable = true)\n |-- latitude: string (nullable = true)\n |-- longitude: string (nullable = true)\n |-- property_type: string (nullable = true)\n |-- room_type: string (nullable = true)\n |-- accommodates: string (nullable = true)\n |-- bathrooms: string (nullable = true)\n |-- bathrooms_text: string (nullable = true)\n |-- bedrooms: string (nullable = true)\n |-- beds: string (nullable = true)\n |-- amenities: string (nullable = true)\n |-- price: string (nullable = true)\n |-- minimum_nights: string (nullable = true)\n |-- maximum_nights: string (nullable = true)\n |-- minimum_minimum_nights: string (nullable = true)\n |-- maximum_minimum_nights: string (nullable = true)\n |-- minimum_maximum_nights: string (nullable = true)\n |-- maximum_maximum_nights: string (nullable = true)\n |-- minimum_nights_avg_ntm: string (nullable = true)\n |-- maximum_nights_avg_ntm: string (nullable = true)\n |-- calendar_updated: string (nullable = true)\n |-- has_availability: string (nullable = true)\n |-- availability_30: string (nullable = true)\n |-- availability_60: string (nullable = true)\n |-- availability_90: string (nullable = true)\n |-- availability_365: string (nullable = true)\n |-- calendar_last_scraped: string (nullable = true)\n |-- number_of_reviews: string (nullable = true)\n |-- number_of_reviews_ltm: string (nullable = true)\n |-- number_of_reviews_l30d: string (nullable = true)\n |-- first_review: string (nullable = true)\n |-- last_review: string (nullable = true)\n |-- review_scores_rating: string (nullable = true)\n |-- review_scores_accuracy: string (nullable = true)\n |-- review_scores_cleanliness: string (nullable = true)\n |-- review_scores_checkin: string (nullable = true)\n |-- review_scores_communication: string (nullable = true)\n |-- review_scores_location: string (nullable = true)\n |-- review_scores_value: string (nullable = true)\n |-- license: string (nullable = true)\n |-- instant_bookable: string (nullable = true)\n |-- calculated_host_listings_count: string (nullable = true)\n |-- calculated_host_listings_count_entire_homes: string (nullable = true)\n |-- calculated_host_listings_count_private_rooms: string (nullable = true)\n |-- calculated_host_listings_count_shared_rooms: string (nullable = true)\n |-- reviews_per_month: string (nullable = true)\n |-- Month: string (nullable = true)\n",
					"output_type": "stream"
				}
			]
		},
		{
			"cell_type": "code",
			"source": "from pyspark.sql import functions as F\n\ndef to_numerical(df):\n    # Remove the dollar signs and commas, then convert to numeric (double)\n    df = df.withColumn('price', F.regexp_replace('price', '\\\\$', ''))\n    df = df.withColumn('price', F.regexp_replace('price', ',', ''))\n    df = df.withColumn('price', F.col('price').cast('double'))\n    return df\ndf = to_numerical(df)",
			"metadata": {
				"trusted": true,
				"tags": []
			},
			"execution_count": null,
			"outputs": [
				{
					"name": "stdout",
					"text": "\n",
					"output_type": "stream"
				}
			]
		},
		{
			"cell_type": "code",
			"source": "def taking_numerical_values(df, columns):\n    for column in columns:\n        # Use regexp_extract to extract the numerical part from the string\n        df = df.withColumn(column, F.regexp_extract(F.col(column), r'(\\d+(\\.\\d+)?)', 0).cast('double'))\n    return df\ncolumns = ['bathrooms_text']\ndf = taking_numerical_values(df, columns)",
			"metadata": {
				"trusted": true,
				"tags": []
			},
			"execution_count": null,
			"outputs": [
				{
					"name": "stdout",
					"text": "\n",
					"output_type": "stream"
				}
			]
		},
		{
			"cell_type": "code",
			"source": "df.select('price','bathrooms_text').show(5)",
			"metadata": {
				"trusted": true,
				"tags": []
			},
			"execution_count": null,
			"outputs": [
				{
					"name": "stdout",
					"text": "+-----+--------------+\n|price|bathrooms_text|\n+-----+--------------+\n| null|           3.0|\n| null|           1.5|\n|145.0|           1.0|\n| 75.0|           1.0|\n| null|           1.5|\n+-----+--------------+\nonly showing top 5 rows\n",
					"output_type": "stream"
				}
			]
		},
		{
			"cell_type": "code",
			"source": "def removing_the_percentsign(df, columns):\n    for column in columns:\n        # Remove the percentage sign and convert to float\n        df = df.withColumn(column, F.regexp_replace(F.col(column), '%', '').cast('double'))\n    return df\n\ncolumns = ['host_response_rate', 'host_acceptance_rate']\ndf = removing_the_percentsign(df, columns)",
			"metadata": {
				"trusted": true,
				"tags": []
			},
			"execution_count": null,
			"outputs": [
				{
					"name": "stdout",
					"text": "\n",
					"output_type": "stream"
				}
			]
		},
		{
			"cell_type": "code",
			"source": "def trim_all_columns(df):\n    # Applying `trim` to all string columns in the DataFrame\n    for column in df.columns:\n        df = df.withColumn(column, F.trim(F.col(column)))\n    return df\n\ndf = trim_all_columns(df)",
			"metadata": {
				"trusted": true,
				"tags": []
			},
			"execution_count": null,
			"outputs": [
				{
					"name": "stdout",
					"text": "\n",
					"output_type": "stream"
				}
			]
		},
		{
			"cell_type": "code",
			"source": "df.select('host_location').distinct().show(truncate=False)",
			"metadata": {
				"trusted": true,
				"tags": []
			},
			"execution_count": null,
			"outputs": [
				{
					"name": "stdout",
					"text": "+---------------------------+\n|host_location              |\n+---------------------------+\n|London, United Kingdom     |\n|England, United Kingdom    |\n|Nova Scotia, Canada        |\n|Scarborough, United Kingdom|\n|Richmond Hill, Canada      |\n|Lyon, France               |\n|Banff, Canada              |\n|Buenos Aires, Argentina    |\n|Essex, Canada              |\n|Seoul, South Korea         |\n|Richmond, Canada           |\n|West Becher, Canada        |\n|Cambridge, Canada          |\n|Marbella, Spain            |\n|New Minas, Canada          |\n|Sudbury, Canada            |\n|Tokyo, Japan               |\n|King City, Canada          |\n|Timmins, Canada            |\n|Tamarindo, Costa Rica      |\n+---------------------------+\nonly showing top 20 rows\n",
					"output_type": "stream"
				}
			]
		},
		{
			"cell_type": "code",
			"source": "number_of_null = df.filter(F.col('price').isNull()).count()\ntotal_data = df.count()\npercentage_null = (number_of_null / total_data) * 100\n\nprint(f'Percentage of null values in price: {percentage_null:.2f}%')",
			"metadata": {
				"trusted": true,
				"tags": []
			},
			"execution_count": null,
			"outputs": [
				{
					"name": "stdout",
					"text": "Percentage of null values in price: 18.97%\n",
					"output_type": "stream"
				}
			]
		},
		{
			"cell_type": "code",
			"source": "average_price_df = df.groupBy('neighbourhood_cleansed', 'property_type', 'accommodates') \\\n                     .agg(F.avg('price').alias('average_price'))\n\n\ndf = df.join(average_price_df, \n             on=['neighbourhood_cleansed', 'property_type', 'accommodates'], \n             how='left')\n\n# Fill null values in the price column with the calculated average price\ndf = df.withColumn('price', F.coalesce(F.col('price'), F.col('average_price')))\n\ndf = df.drop('average_price')",
			"metadata": {
				"trusted": true,
				"tags": []
			},
			"execution_count": null,
			"outputs": [
				{
					"name": "stdout",
					"text": "\n",
					"output_type": "stream"
				}
			]
		},
		{
			"cell_type": "code",
			"source": "number_of_null = df.filter(F.col('price').isNull()).count()\nnumber_of_null",
			"metadata": {
				"trusted": true,
				"tags": []
			},
			"execution_count": null,
			"outputs": [
				{
					"name": "stdout",
					"text": "38\n",
					"output_type": "stream"
				}
			]
		},
		{
			"cell_type": "code",
			"source": "# These 38 column is missing property type and accommodates so rather that using avergae to fill droping the rows\ndf = df.dropna(subset=['price'])",
			"metadata": {
				"trusted": true,
				"tags": []
			},
			"execution_count": null,
			"outputs": [
				{
					"name": "stdout",
					"text": "\n",
					"output_type": "stream"
				}
			]
		},
		{
			"cell_type": "code",
			"source": "number_of_null = df.filter(F.col('neighbourhood_group_cleansed').isNull()).count()\n(number_of_null)",
			"metadata": {
				"trusted": true,
				"tags": []
			},
			"execution_count": null,
			"outputs": [
				{
					"name": "stdout",
					"text": "248485\n",
					"output_type": "stream"
				}
			]
		},
		{
			"cell_type": "code",
			"source": "total_data = df.count()\n\n# Calculate the percentage of null values in all columns\nnull_percentage_df = df.select([ \n    (F.count(F.when(F.col(column).isNull(), column)) / total_data * 100).alias(column) \n    for column in df.columns\n])\n\n# Show the percentage of null values for each column\nnull_percentage_df.show(truncate=False)",
			"metadata": {
				"trusted": true,
				"tags": []
			},
			"execution_count": null,
			"outputs": [
				{
					"name": "stdout",
					"text": "+----------------------+-------------+------------+---------+---+-----------+---------+------------+------+----+---------------------+-----------+-------+--------+--------------------+--------------------+------------------+------------------+--------------------+-----------------+--------------------+--------------------+--------------------+-------------------------+--------------------+--------------------+----------------------+--------+---------+------------------+--------+--------------------+---------+-----+--------------+--------------+----------------------+----------------------+----------------------+----------------------+----------------------+----------------------+-----------------+---------------+---------------+---------------+----------------+---------------------+-----------------+---------------------+----------------------+------------------+------------------+--------------------+----------------------+-------------------------+---------------------+---------------------------+----------------------+-------------------+-------+----------------+------------------------------+-------------------------------------------+--------------------------------------------+-------------------------------------------+------------------+-----+\n|neighbourhood_cleansed|property_type|accommodates|room_type|id |listing_url|scrape_id|last_scraped|source|name|neighborhood_overview|picture_url|host_id|host_url|host_name           |host_since          |host_response_time|host_response_rate|host_acceptance_rate|host_is_superhost|host_thumbnail_url  |host_picture_url    |host_listings_count |host_total_listings_count|host_verifications  |host_has_profile_pic|host_identity_verified|latitude|longitude|bathrooms_text    |bedrooms|beds                |amenities|price|minimum_nights|maximum_nights|minimum_minimum_nights|maximum_minimum_nights|minimum_maximum_nights|maximum_maximum_nights|minimum_nights_avg_ntm|maximum_nights_avg_ntm|has_availability |availability_30|availability_60|availability_90|availability_365|calendar_last_scraped|number_of_reviews|number_of_reviews_ltm|number_of_reviews_l30d|first_review      |last_review       |review_scores_rating|review_scores_accuracy|review_scores_cleanliness|review_scores_checkin|review_scores_communication|review_scores_location|review_scores_value|license|instant_bookable|calculated_host_listings_count|calculated_host_listings_count_entire_homes|calculated_host_listings_count_private_rooms|calculated_host_listings_count_shared_rooms|reviews_per_month |Month|\n+----------------------+-------------+------------+---------+---+-----------+---------+------------+------+----+---------------------+-----------+-------+--------+--------------------+--------------------+------------------+------------------+--------------------+-----------------+--------------------+--------------------+--------------------+-------------------------+--------------------+--------------------+----------------------+--------+---------+------------------+--------+--------------------+---------+-----+--------------+--------------+----------------------+----------------------+----------------------+----------------------+----------------------+----------------------+-----------------+---------------+---------------+---------------+----------------+---------------------+-----------------+---------------------+----------------------+------------------+------------------+--------------------+----------------------+-------------------------+---------------------+---------------------------+----------------------+-------------------+-------+----------------+------------------------------+-------------------------------------------+--------------------------------------------+-------------------------------------------+------------------+-----+\n|0.0                   |0.0          |0.0         |0.0      |0.0|0.0        |0.0      |0.0         |0.0   |0.0 |46.34364247338873    |0.0        |0.0    |0.0     |0.011268285812020846|0.011268285812020846|30.42316437611928 |0.0               |0.0                 |2.207376702819084|0.011268285812020846|0.011268285812020846|0.011268285812020846|0.011268285812020846     |0.011268285812020846|0.011268285812020846|0.011268285812020846  |0.0     |0.0      |0.2796949514055174|0.0     |0.004829265348008934|0.0      |0.0  |0.0           |0.0           |0.0                   |0.0                   |0.0                   |0.0                   |0.0                   |0.0                   |4.937923818339135|0.0            |0.0            |0.0            |0.0             |0.0                  |0.0              |0.0                  |0.0                   |25.263899229329738|25.263899229329738|25.243777290379697  |25.346801617803894    |25.342374791234885       |25.348008934140893   |25.346801617803894         |25.352838199488904    |25.347204056582896 |0.0    |0.0             |0.0                           |0.0                                        |0.0                                         |0.0                                        |25.263899229329738|0.0  |\n+----------------------+-------------+------------+---------+---+-----------+---------+------------+------+----+---------------------+-----------+-------+--------+--------------------+--------------------+------------------+------------------+--------------------+-----------------+--------------------+--------------------+--------------------+-------------------------+--------------------+--------------------+----------------------+--------+---------+------------------+--------+--------------------+---------+-----+--------------+--------------+----------------------+----------------------+----------------------+----------------------+----------------------+----------------------+-----------------+---------------+---------------+---------------+----------------+---------------------+-----------------+---------------------+----------------------+------------------+------------------+--------------------+----------------------+-------------------------+---------------------+---------------------------+----------------------+-------------------+-------+----------------+------------------------------+-------------------------------------------+--------------------------------------------+-------------------------------------------+------------------+-----+\n",
					"output_type": "stream"
				}
			]
		},
		{
			"cell_type": "code",
			"source": "null_percentage_df.select('host_acceptance_rate','host_response_rate').show()",
			"metadata": {
				"trusted": true,
				"tags": []
			},
			"execution_count": null,
			"outputs": [
				{
					"name": "stdout",
					"text": "+--------------------+------------------+\n|host_acceptance_rate|host_response_rate|\n+--------------------+------------------+\n|                 0.0|               0.0|\n+--------------------+------------------+\n",
					"output_type": "stream"
				}
			]
		},
		{
			"cell_type": "code",
			"source": "null_percentage_df.show(3)",
			"metadata": {
				"trusted": true,
				"tags": []
			},
			"execution_count": null,
			"outputs": [
				{
					"name": "stdout",
					"text": "+----------------------+-------------+------------+---------+---+-----------+---------+------------+------+----+---------------------+-----------+-------+--------+--------------------+--------------------+------------------+------------------+--------------------+-----------------+--------------------+--------------------+--------------------+-------------------------+--------------------+--------------------+----------------------+--------+---------+------------------+--------+--------------------+---------+-----+--------------+--------------+----------------------+----------------------+----------------------+----------------------+----------------------+----------------------+-----------------+---------------+---------------+---------------+----------------+---------------------+-----------------+---------------------+----------------------+------------------+------------------+--------------------+----------------------+-------------------------+---------------------+---------------------------+----------------------+-------------------+-------+----------------+------------------------------+-------------------------------------------+--------------------------------------------+-------------------------------------------+------------------+-----+\n|neighbourhood_cleansed|property_type|accommodates|room_type| id|listing_url|scrape_id|last_scraped|source|name|neighborhood_overview|picture_url|host_id|host_url|           host_name|          host_since|host_response_time|host_response_rate|host_acceptance_rate|host_is_superhost|  host_thumbnail_url|    host_picture_url| host_listings_count|host_total_listings_count|  host_verifications|host_has_profile_pic|host_identity_verified|latitude|longitude|    bathrooms_text|bedrooms|                beds|amenities|price|minimum_nights|maximum_nights|minimum_minimum_nights|maximum_minimum_nights|minimum_maximum_nights|maximum_maximum_nights|minimum_nights_avg_ntm|maximum_nights_avg_ntm| has_availability|availability_30|availability_60|availability_90|availability_365|calendar_last_scraped|number_of_reviews|number_of_reviews_ltm|number_of_reviews_l30d|      first_review|       last_review|review_scores_rating|review_scores_accuracy|review_scores_cleanliness|review_scores_checkin|review_scores_communication|review_scores_location|review_scores_value|license|instant_bookable|calculated_host_listings_count|calculated_host_listings_count_entire_homes|calculated_host_listings_count_private_rooms|calculated_host_listings_count_shared_rooms| reviews_per_month|Month|\n+----------------------+-------------+------------+---------+---+-----------+---------+------------+------+----+---------------------+-----------+-------+--------+--------------------+--------------------+------------------+------------------+--------------------+-----------------+--------------------+--------------------+--------------------+-------------------------+--------------------+--------------------+----------------------+--------+---------+------------------+--------+--------------------+---------+-----+--------------+--------------+----------------------+----------------------+----------------------+----------------------+----------------------+----------------------+-----------------+---------------+---------------+---------------+----------------+---------------------+-----------------+---------------------+----------------------+------------------+------------------+--------------------+----------------------+-------------------------+---------------------+---------------------------+----------------------+-------------------+-------+----------------+------------------------------+-------------------------------------------+--------------------------------------------+-------------------------------------------+------------------+-----+\n|                   0.0|          0.0|         0.0|      0.0|0.0|        0.0|      0.0|         0.0|   0.0| 0.0|    46.34364247338873|        0.0|    0.0|     0.0|0.011268285812020846|0.011268285812020846| 30.42316437611928|               0.0|                 0.0|2.207376702819084|0.011268285812020846|0.011268285812020846|0.011268285812020846|     0.011268285812020846|0.011268285812020846|0.011268285812020846|  0.011268285812020846|     0.0|      0.0|0.2796949514055174|     0.0|0.004829265348008934|      0.0|  0.0|           0.0|           0.0|                   0.0|                   0.0|                   0.0|                   0.0|                   0.0|                   0.0|4.937923818339135|            0.0|            0.0|            0.0|             0.0|                  0.0|              0.0|                  0.0|                   0.0|25.263899229329738|25.263899229329738|  25.243777290379697|    25.346801617803894|       25.342374791234885|   25.348008934140893|         25.346801617803894|    25.352838199488904| 25.347204056582896|    0.0|             0.0|                           0.0|                                        0.0|                                         0.0|                                        0.0|25.263899229329738|  0.0|\n+----------------------+-------------+------------+---------+---+-----------+---------+------------+------+----+---------------------+-----------+-------+--------+--------------------+--------------------+------------------+------------------+--------------------+-----------------+--------------------+--------------------+--------------------+-------------------------+--------------------+--------------------+----------------------+--------+---------+------------------+--------+--------------------+---------+-----+--------------+--------------+----------------------+----------------------+----------------------+----------------------+----------------------+----------------------+-----------------+---------------+---------------+---------------+----------------+---------------------+-----------------+---------------------+----------------------+------------------+------------------+--------------------+----------------------+-------------------------+---------------------+---------------------------+----------------------+-------------------+-------+----------------+------------------------------+-------------------------------------------+--------------------------------------------+-------------------------------------------+------------------+-----+\n",
					"output_type": "stream"
				}
			]
		},
		{
			"cell_type": "code",
			"source": "number_of_null_or_empty = df.filter(F.col('bathrooms').isNull() | (F.col('bathrooms') == \"\")).count()\nprint(f'Number of null or empty values in bathrooms: {number_of_null_or_empty}')",
			"metadata": {
				"trusted": true,
				"tags": []
			},
			"execution_count": null,
			"outputs": []
		},
		{
			"cell_type": "code",
			"source": "null_percentage_df = df.select([\n    (F.count(F.when(F.col(column).isNull() | (F.col(column) == \"\"), column)) / total_data * 100).alias(column)\n    for column in df.columns\n])\n\n# Show the percentage of null values for each column\nnull_percentage_df.show(truncate=False)",
			"metadata": {
				"trusted": true,
				"tags": []
			},
			"execution_count": null,
			"outputs": []
		},
		{
			"cell_type": "code",
			"source": "null_percentage_results = null_percentage_df.first().asDict()\n\n# Filter columns where the percentage is more than 10%\ncolumns_above_10_percent = {column: percentage for column, percentage in null_percentage_results.items() if percentage > 10}\n\n# Display the columns with more than 10% null and empty values\nprint(\"Columns with more than 10% null or empty values:\")\nfor column, percentage in columns_above_10_percent.items():\n    print(f\"{column}: {percentage:.2f}%\")",
			"metadata": {
				"trusted": true,
				"tags": []
			},
			"execution_count": null,
			"outputs": []
		},
		{
			"cell_type": "code",
			"source": "# Columns to drop\n## description: 18.08%\n#### host_location: 25.45% (Droping the column, doesn't significently impact the price by where host is from)\n#### host_about: 53.04%\n#### neighbourhood: 46.34% (Have this info in neighbourhood cleaned)\n#### neighbourhood_group_cleansed: 100.00% (group location is toronto)\n#### bathrooms: 49.03% (Drop) have this info in Bathroom_text\n#### calendar_updated: 100.00% (Just indicate when data was uploaded irrelivent) \n#### host_neighbourhood: 59.33% (Where the host are from)\n\n\n# Columns to fill null values with some values\n'''host_response_time: 30.42%\nhost_response_rate: 30.42%\nhost_acceptance_rate: 26.06%\n\nbedrooms: 26.97%\nbeds: 17.47%'''\n## neighborhood_overview: 46.34% (we can fill this data with neighborhood overview of other listing present in that neighbourhood)\n\n\n'''first_review: 25.26%\nlast_review: 25.26%\nreview_scores_rating: 25.24%\nreview_scores_accuracy: 25.35%\nreview_scores_cleanliness: 25.34%\nreview_scores_checkin: 25.35%\nreview_scores_communication: 25.35%\nreview_scores_location: 25.35%\nreview_scores_value: 25.35%\nlicense: 52.63%\nreviews_per_month: 25.26%'''\n# these field we can check on reviews table",
			"metadata": {
				"trusted": true,
				"tags": []
			},
			"execution_count": null,
			"outputs": []
		},
		{
			"cell_type": "code",
			"source": "# Converting the numerical columns to numerical values\ncolumns_to_convert = [\n    'id',\n    'scrape_id',\n    'host_id',\n    'latitude',\n    'longitude',\n    'accommodates',\n    'bedrooms',\n    'beds',\n    'minimum_nights',\n    'maximum_nights',\n    'minimum_minimum_nights',\n    'maximum_minimum_nights',\n    'minimum_maximum_nights',\n    'maximum_maximum_nights',\n    'minimum_nights_avg_ntm',\n    'maximum_nights_avg_ntm',\n    'availability_30',\n    'availability_60',\n    'availability_90',\n    'availability_365',\n    'number_of_reviews',\n    'number_of_reviews_ltm',\n    'number_of_reviews_l30d',\n    'calculated_host_listings_count',\n    'calculated_host_listings_count_entire_homes',\n    'calculated_host_listings_count_private_rooms',\n    'calculated_host_listings_count_shared_rooms',\n    'reviews_per_month'\n]\n\nfor column in columns_to_convert:\n    df = df.withColumn(column, F.col(column).cast('float'))",
			"metadata": {
				"trusted": true,
				"tags": []
			},
			"execution_count": 86,
			"outputs": [
				{
					"name": "stdout",
					"text": "\n",
					"output_type": "stream"
				}
			]
		},
		{
			"cell_type": "code",
			"source": "df_room = df.select('room_type','property_type','accommodates', 'beds', 'bedrooms')\ndf_room.printSchema()",
			"metadata": {
				"trusted": true,
				"tags": []
			},
			"execution_count": 88,
			"outputs": [
				{
					"name": "stdout",
					"text": "root\n |-- room_type: string (nullable = true)\n |-- property_type: string (nullable = true)\n |-- accommodates: float (nullable = true)\n |-- beds: float (nullable = true)\n |-- bedrooms: float (nullable = true)\n",
					"output_type": "stream"
				}
			]
		},
		{
			"cell_type": "code",
			"source": "# Changing the empty string to None (null value)\nfor column in df.columns:\n    df = df.withColumn(column, F.when(F.col(column) == '', None).otherwise(F.col(column)))",
			"metadata": {
				"trusted": true,
				"tags": []
			},
			"execution_count": 90,
			"outputs": [
				{
					"name": "stdout",
					"text": "\n",
					"output_type": "stream"
				}
			]
		},
		{
			"cell_type": "code",
			"source": "# Filling beds and bedrooms with average of accommodates and room_type",
			"metadata": {
				"trusted": true,
				"tags": []
			},
			"execution_count": 8,
			"outputs": []
		},
		{
			"cell_type": "code",
			"source": "average_values = df.groupBy('room_type', 'accommodates') \\\n    .agg(\n        F.avg('beds').alias('avg_beds'),\n        F.avg('bedrooms').alias('avg_bedrooms')\n    )\n\ndf = df.join(average_values, on=['room_type', 'accommodates'], how='left')\n\n\ndf = df.withColumn('beds', F.coalesce(F.col('beds'), F.col('avg_beds'))) \\\n    .withColumn('bedrooms', F.coalesce(F.col('bedrooms'), F.col('avg_bedrooms')))\n\ndf = df.drop('avg_beds', 'avg_bedrooms')\n",
			"metadata": {
				"trusted": true,
				"tags": []
			},
			"execution_count": 93,
			"outputs": [
				{
					"name": "stdout",
					"text": "\n",
					"output_type": "stream"
				}
			]
		},
		{
			"cell_type": "code",
			"source": "# response_columns = ['host_response_time', 'host_response_rate', 'host_acceptance_rate'] filling response column",
			"metadata": {
				"trusted": true,
				"tags": []
			},
			"execution_count": 9,
			"outputs": []
		},
		{
			"cell_type": "code",
			"source": "response_columns = ['host_response_time', 'host_response_rate', 'host_acceptance_rate']\n\naverage_response_values = df.agg(\n    *[F.avg(column).alias(f'avg_{column}') for column in response_columns]\n)\n\n# Collecting the average values into a dictionary\navg_values = average_response_values.first().asDict()\n\n# Filling missing values in the response columns with the calculated averages\nfor column in response_columns:\n    df = df.withColumn(column, F.coalesce(F.col(column), F.lit(avg_values[f'avg_{column}'])))",
			"metadata": {
				"trusted": true,
				"tags": []
			},
			"execution_count": 96,
			"outputs": [
				{
					"name": "stdout",
					"text": "\n",
					"output_type": "stream"
				}
			]
		},
		{
			"cell_type": "code",
			"source": "# Droping unwanted columns\nunwanted_column = []\ndf = df.drop('description','host_location', 'host_about', 'neighbourhood', 'neighbourhood_group_cleansed', 'bathrooms', 'calendar_updated', 'host_neighbourhood')",
			"metadata": {
				"trusted": true,
				"tags": []
			},
			"execution_count": 99,
			"outputs": [
				{
					"name": "stdout",
					"text": "\n",
					"output_type": "stream"
				}
			]
		},
		{
			"cell_type": "code",
			"source": "df.select('license').show(4)",
			"metadata": {
				"trusted": true,
				"tags": []
			},
			"execution_count": 101,
			"outputs": [
				{
					"name": "stdout",
					"text": "+---------------+\n|        license|\n+---------------+\n|STR-2307-JDVPHZ|\n|STR-2307-JDVPHZ|\n|STR-2309-FWPRVR|\n|STR-2009-GPCHBG|\n+---------------+\nonly showing top 4 rows\n",
					"output_type": "stream"
				}
			]
		},
		{
			"cell_type": "code",
			"source": "# Filling null license with Zero (means doesn't have license)\ndf = df.fillna({'license': '0'})\n",
			"metadata": {
				"trusted": true,
				"tags": []
			},
			"execution_count": 103,
			"outputs": [
				{
					"name": "stdout",
					"text": "\n",
					"output_type": "stream"
				}
			]
		},
		{
			"cell_type": "code",
			"source": "# Filling host_response_time with 2 hours which is above the average response time\ndf = df.fillna({'host_response_time':5})",
			"metadata": {
				"trusted": true,
				"tags": []
			},
			"execution_count": 105,
			"outputs": [
				{
					"name": "stdout",
					"text": "\n",
					"output_type": "stream"
				}
			]
		},
		{
			"cell_type": "code",
			"source": "# Filling the neighborhood_overview column with the overview from other listings that share the same neighbourhood_cleansed\n\nagg_df = df.groupBy(\"neighbourhood_cleansed\") \\\n            .agg(F.first(\"neighborhood_overview\").alias(\"overview\"))  # Get the first non-null overview for each neighborhood\n\n# Join the aggregated DataFrame back to the original DataFrame\ndf = df.join(agg_df, on=\"neighbourhood_cleansed\", how=\"left\")\n\n# Filling the null values in neighborhood_overview with the overview from the aggregated DataFrame\ndf = df.withColumn(\n    \"neighborhood_overview\",\n    F.coalesce(df[\"neighborhood_overview\"], df[\"overview\"])\n)\n\ndf = df.drop(\"overview\")",
			"metadata": {
				"trusted": true,
				"tags": []
			},
			"execution_count": 107,
			"outputs": [
				{
					"name": "stdout",
					"text": "\n",
					"output_type": "stream"
				}
			]
		},
		{
			"cell_type": "code",
			"source": "# For has_availability checking the availability_30, availability_60, availability_90, availability_365\n\ndf.select('availability_30', 'availability_60', 'availability_90', 'availability_365', 'has_availability').show(10)",
			"metadata": {
				"trusted": true,
				"tags": []
			},
			"execution_count": 109,
			"outputs": [
				{
					"name": "stdout",
					"text": "+---------------+---------------+---------------+----------------+----------------+\n|availability_30|availability_60|availability_90|availability_365|has_availability|\n+---------------+---------------+---------------+----------------+----------------+\n|           30.0|           60.0|           89.0|            89.0|               t|\n|           14.0|           44.0|           73.0|            73.0|               t|\n|           30.0|           60.0|           90.0|            90.0|               t|\n|           30.0|           60.0|           89.0|            89.0|               t|\n|           30.0|           60.0|           90.0|            90.0|               t|\n|           19.0|           49.0|           79.0|            79.0|               t|\n|            0.0|           18.0|           48.0|            48.0|               t|\n|            0.0|            0.0|           16.0|            16.0|               t|\n|           30.0|           60.0|           90.0|            90.0|               t|\n|           30.0|           60.0|           90.0|            90.0|               t|\n+---------------+---------------+---------------+----------------+----------------+\nonly showing top 10 rows\n",
					"output_type": "stream"
				}
			]
		},
		{
			"cell_type": "code",
			"source": "df = df.withColumn(\n    \"has_availability\",\n    F.when(\n        (F.col(\"availability_30\") == 0) & \n        (F.col(\"availability_60\") == 0) & \n        (F.col(\"availability_90\") == 0) & \n        (F.col(\"availability_365\") == 0), \"f\"\n    ).otherwise(\"t\")\n)",
			"metadata": {
				"trusted": true,
				"tags": []
			},
			"execution_count": 111,
			"outputs": [
				{
					"name": "stdout",
					"text": "\n",
					"output_type": "stream"
				}
			]
		},
		{
			"cell_type": "code",
			"source": "df = df.fillna({'host_is_superhost':'f'})",
			"metadata": {
				"trusted": true,
				"tags": []
			},
			"execution_count": 112,
			"outputs": [
				{
					"name": "stdout",
					"text": "\n",
					"output_type": "stream"
				}
			]
		},
		{
			"cell_type": "code",
			"source": "df = df.fillna({'neighborhood_overview': 'UNKNOWN'})",
			"metadata": {
				"trusted": true,
				"tags": []
			},
			"execution_count": 118,
			"outputs": [
				{
					"name": "stdout",
					"text": "\n",
					"output_type": "stream"
				}
			]
		},
		{
			"cell_type": "code",
			"source": "# Uploading the review file to check if missing reviews are available \n\ninput_path = \"s3://pyspark-analysis/reviews.csv.gz\"\n\n# Reading the gzipped CSV file from S3 into a DynamicFrame\ndyf = glueContext.create_dynamic_frame.from_options(\n    connection_type=\"s3\",\n    connection_options={\"paths\": [input_path]},\n    format=\"csv\",\n    format_options={\n        \"withHeader\": True,\n        \"separator\": \",\",\n        \"compression\": \"gzip\"\n    }\n)\n\n# Convert the DynamicFrame to a DataFrame if needed\ndf_review = dyf.toDF()\n\n# Show the first few rows of the DataFrame\ndf_review.show(10)\n",
			"metadata": {
				"trusted": true,
				"tags": []
			},
			"execution_count": null,
			"outputs": []
		},
		{
			"cell_type": "code",
			"source": "Review_Count = df_review.groupBy(\"listing_id\", \"Month\").agg(F.count(\"comments\").alias(\"comment_count\"))",
			"metadata": {
				"trusted": true,
				"tags": []
			},
			"execution_count": 113,
			"outputs": [
				{
					"name": "stdout",
					"text": "\n",
					"output_type": "stream"
				}
			]
		},
		{
			"cell_type": "code",
			"source": "Review_Count.filter(F.col('listing_id') == '4567809').show()",
			"metadata": {
				"trusted": true,
				"tags": []
			},
			"execution_count": 114,
			"outputs": [
				{
					"name": "stdout",
					"text": "+----------+-----+-------------+\n|listing_id|Month|comment_count|\n+----------+-----+-------------+\n+----------+-----+-------------+\n",
					"output_type": "stream"
				}
			]
		},
		{
			"cell_type": "code",
			"source": "",
			"metadata": {},
			"execution_count": null,
			"outputs": []
		},
		{
			"cell_type": "code",
			"source": "null_review = df.select('review_scores_rating','review_scores_accuracy','host_since','id','host_id')\nnull_review.filter(F.col('review_scores_rating').isNull()).show(10)",
			"metadata": {
				"trusted": true,
				"tags": []
			},
			"execution_count": 115,
			"outputs": [
				{
					"name": "stdout",
					"text": "+--------------------+----------------------+----------+-------------+------------+\n|review_scores_rating|review_scores_accuracy|host_since|           id|     host_id|\n+--------------------+----------------------+----------+-------------+------------+\n|                null|                  null|2023-09-14|  9.893495E17| 5.3718496E8|\n|                null|                  null|2024-04-04|1.12768744E18| 5.7062707E8|\n|                null|                  null|2022-09-19|  9.783662E17|4.80211488E8|\n|                null|                  null|2015-04-14|    6013874.0| 3.1217284E7|\n|                null|                  null|2015-10-11|  6.295673E17|  4.625804E7|\n|                null|                  null|2023-01-30| 8.9800193E17|4.98753984E8|\n|                null|                  null|2023-02-25| 9.4213173E17|5.02787392E8|\n|                null|                  null|2016-06-19|1.02115136E18|   7.86746E7|\n|                null|                  null|2022-02-04|1.06445913E18|4.43587072E8|\n|                null|                  null|2024-02-05|1.12631827E18| 5.6050835E8|\n+--------------------+----------------------+----------+-------------+------------+\nonly showing top 10 rows\n",
					"output_type": "stream"
				}
			]
		},
		{
			"cell_type": "code",
			"source": "final_df = final_df.drop('first_review','last_review')",
			"metadata": {
				"trusted": true,
				"tags": []
			},
			"execution_count": 127,
			"outputs": [
				{
					"name": "stdout",
					"text": "\n",
					"output_type": "stream"
				}
			]
		},
		{
			"cell_type": "code",
			"source": "# Cant find any of the reviews related data\n## First fillup method, checking if that listing belongs to host who owns other listing if some filling with same ratings\n## Considering they never received a review and filling with zero.\n\ndf.printSchema()\n# Filling remaining nulls with zero for listings with no reviews\nfinal_df = df.fillna({\n    \"review_scores_rating\": 0.0,\n    \"review_scores_accuracy\": 0.0,\n    \"review_scores_cleanliness\": 0.0,\n    \"review_scores_checkin\": 0.0,\n    \"review_scores_communication\": 0.0,\n    \"review_scores_location\": 0.0,\n    \"review_scores_value\": 0.0,\n    \"reviews_per_month\": 0.0\n})\n\n\n\n\n",
			"metadata": {
				"trusted": true,
				"tags": []
			},
			"execution_count": 120,
			"outputs": [
				{
					"name": "stdout",
					"text": "root\n |-- neighbourhood_cleansed: string (nullable = true)\n |-- property_type: string (nullable = true)\n |-- accommodates: string (nullable = true)\n |-- room_type: string (nullable = true)\n |-- id: string (nullable = true)\n |-- listing_url: string (nullable = true)\n |-- scrape_id: string (nullable = true)\n |-- last_scraped: string (nullable = true)\n |-- source: string (nullable = true)\n |-- name: string (nullable = true)\n |-- neighborhood_overview: string (nullable = false)\n |-- picture_url: string (nullable = true)\n |-- host_id: string (nullable = true)\n |-- host_url: string (nullable = true)\n |-- host_name: string (nullable = true)\n |-- host_since: string (nullable = true)\n |-- host_response_time: string (nullable = false)\n |-- host_response_rate: string (nullable = false)\n |-- host_acceptance_rate: string (nullable = false)\n |-- host_is_superhost: string (nullable = false)\n |-- host_thumbnail_url: string (nullable = true)\n |-- host_picture_url: string (nullable = true)\n |-- host_listings_count: string (nullable = true)\n |-- host_total_listings_count: string (nullable = true)\n |-- host_verifications: string (nullable = true)\n |-- host_has_profile_pic: string (nullable = true)\n |-- host_identity_verified: string (nullable = true)\n |-- latitude: string (nullable = true)\n |-- longitude: string (nullable = true)\n |-- bathrooms_text: string (nullable = true)\n |-- bedrooms: string (nullable = true)\n |-- beds: string (nullable = true)\n |-- amenities: string (nullable = true)\n |-- price: string (nullable = true)\n |-- minimum_nights: string (nullable = true)\n |-- maximum_nights: string (nullable = true)\n |-- minimum_minimum_nights: string (nullable = true)\n |-- maximum_minimum_nights: string (nullable = true)\n |-- minimum_maximum_nights: string (nullable = true)\n |-- maximum_maximum_nights: string (nullable = true)\n |-- minimum_nights_avg_ntm: string (nullable = true)\n |-- maximum_nights_avg_ntm: string (nullable = true)\n |-- has_availability: string (nullable = false)\n |-- availability_30: string (nullable = true)\n |-- availability_60: string (nullable = true)\n |-- availability_90: string (nullable = true)\n |-- availability_365: string (nullable = true)\n |-- calendar_last_scraped: string (nullable = true)\n |-- number_of_reviews: string (nullable = true)\n |-- number_of_reviews_ltm: string (nullable = true)\n |-- number_of_reviews_l30d: string (nullable = true)\n |-- first_review: string (nullable = true)\n |-- last_review: string (nullable = true)\n |-- review_scores_rating: string (nullable = true)\n |-- review_scores_accuracy: string (nullable = true)\n |-- review_scores_cleanliness: string (nullable = true)\n |-- review_scores_checkin: string (nullable = true)\n |-- review_scores_communication: string (nullable = true)\n |-- review_scores_location: string (nullable = true)\n |-- review_scores_value: string (nullable = true)\n |-- license: string (nullable = false)\n |-- instant_bookable: string (nullable = true)\n |-- calculated_host_listings_count: string (nullable = true)\n |-- calculated_host_listings_count_entire_homes: string (nullable = true)\n |-- calculated_host_listings_count_private_rooms: string (nullable = true)\n |-- calculated_host_listings_count_shared_rooms: string (nullable = true)\n |-- reviews_per_month: string (nullable = true)\n |-- Month: string (nullable = true)\n",
					"output_type": "stream"
				}
			]
		},
		{
			"cell_type": "code",
			"source": "null_percentage_df = final_df.select([\n    (F.count(F.when(F.col(column).isNull(), column)) / total_data * 100).alias(column)\n    for column in df.columns\n])\n\nnull_percentage_results = null_percentage_df.first().asDict()\n\n\ncolumns_above_10_percent = {column: percentage for column, percentage in null_percentage_results.items() if percentage > 1}\n\n# Display the columns with more than 1% null and empty values\nprint(\"Columns with more null or empty values:\")\nfor column, percentage in columns_above_10_percent.items():\n    print(f\"{column}: {percentage:.2f}%\")\n\n",
			"metadata": {
				"trusted": true,
				"tags": []
			},
			"execution_count": 125,
			"outputs": [
				{
					"name": "stdout",
					"text": "Columns with more null or empty values:\nfirst_review: 25.26%\nlast_review: 25.26%\n",
					"output_type": "stream"
				}
			]
		},
		{
			"cell_type": "code",
			"source": "final_df = final_df.drop('first_review','last_review')",
			"metadata": {
				"trusted": true,
				"tags": []
			},
			"execution_count": 128,
			"outputs": [
				{
					"name": "stdout",
					"text": "\n",
					"output_type": "stream"
				}
			]
		},
		{
			"cell_type": "code",
			"source": "final_df = final_df.repartition(1)\ns3_path = \"s3://pyspark-analysis/final_data.csv\"\n\n# Write the DataFrame to S3 in Parquet format\nfinal_df.write.mode('overwrite').option(\"header\", \"true\").csv(s3_path)",
			"metadata": {
				"trusted": true,
				"tags": []
			},
			"execution_count": 131,
			"outputs": [
				{
					"name": "stdout",
					"text": "\n",
					"output_type": "stream"
				}
			]
		},
		{
			"cell_type": "code",
			"source": "",
			"metadata": {},
			"execution_count": null,
			"outputs": []
		}
	]
}