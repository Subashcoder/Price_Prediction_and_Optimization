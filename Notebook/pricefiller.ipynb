{
 "cells": [
  {
   "cell_type": "code",
   "execution_count": null,
   "id": "0e3a7f15-5dac-4508-8d7f-f72128fe9d8c",
   "metadata": {},
   "outputs": [],
   "source": [
    "# Print the number of missing values before replacement\n",
    "print(\"\\nNumber of missing values in 'price' before replacement:\", missing_price_mask.sum())\n",
    "\n",
    "# Fill missing 'price' values based on conditions\n",
    "for index in df_initial[missing_price_mask].index:\n",
    "    listing_id = df_initial.at[index, 'id']  # Get the listing_id from df_initial\n",
    "    calendar_date = df_initial.at[index, 'calendar_last_scraped']  # Get the date from df_initial\n",
    "\n",
    "    # Check for the corresponding listing in the calendar dataframe\n",
    "    matching_calendar_row = df_calendar[(df_calendar['listing_id'] == listing_id) & \n",
    "                                        (df_calendar['date'] == calendar_date)]\n",
    "    \n",
    "    # If a matching row is found, fill the missing price\n",
    "    if not matching_calendar_row.empty:\n",
    "        df_initial.at[index, 'price'] = matching_calendar_row['price'].values[0]  # Fill missing price\n",
    "\n",
    "# Check for missing values in 'price' again\n",
    "missing_values_after = df_initial['price'].isnull().sum()\n",
    "print(\"\\nNumber of missing values in 'price' after replacement:\", missing_values_after)\n"
   ]
  },
  {
   "cell_type": "code",
   "execution_count": null,
   "id": "624447d4-b77d-4bfa-9a4a-2566f6e21454",
   "metadata": {},
   "outputs": [],
   "source": [
    "import dask.dataframe as dd\n",
    "\n",
    "\n",
    "# Convert to Dask DataFrames for parallel processing\n",
    "dask_initial = dd.from_pandas(df_initial, npartitions=4)  # Adjust npartitions as needed\n",
    "dask_calendar = dd.from_pandas(df_calendar, npartitions=4)\n",
    "\n",
    "# Function to fill missing prices\n",
    "def fill_missing_prices(row):\n",
    "    if pd.isnull(row['price']):\n",
    "        # Check for matching listing_id and date\n",
    "        matching_row = dask_calendar[\n",
    "            (dask_calendar['listing_id'] == row['id']) & \n",
    "            (dask_calendar['date'] == row['calendar_last_scraped'])\n",
    "        ].compute()\n",
    "        \n",
    "        if not matching_row.empty:\n",
    "            return matching_row['price'].values[0]\n",
    "    return row['price']\n",
    "\n",
    "# Apply the function to fill missing prices\n",
    "dask_initial['price'] = dask_initial.map_partitions(\n",
    "    lambda df: df.apply(fill_missing_prices, axis=1),\n",
    "    meta=df_initial\n",
    ")\n",
    "\n",
    "# Compute the result back to a pandas DataFrame\n",
    "df_initial_filled = dask_initial.compute()\n",
    "\n",
    "# Check for missing values in 'price' again\n",
    "missing_values_after = df_initial_filled['price'].isnull().sum()\n",
    "print(\"\\nNumber of missing values in 'price' after replacement:\", missing_values_after)\n",
    "\n",
    "# Calculate the new percentage of missing values in the 'price' column\n",
    "missing_percentage_after = (missing_values_after / len(df_initial_filled)) * 100\n",
    "print(f\"\\nNew percentage of missing values in 'price' column: {missing_percentage_after:.2f}%\")\n"
   ]
  }
 ],
 "metadata": {
  "kernelspec": {
   "display_name": "Python 3 (ipykernel)",
   "language": "python",
   "name": "python3"
  },
  "language_info": {
   "codemirror_mode": {
    "name": "ipython",
    "version": 3
   },
   "file_extension": ".py",
   "mimetype": "text/x-python",
   "name": "python",
   "nbconvert_exporter": "python",
   "pygments_lexer": "ipython3",
   "version": "3.11.5"
  }
 },
 "nbformat": 4,
 "nbformat_minor": 5
}
