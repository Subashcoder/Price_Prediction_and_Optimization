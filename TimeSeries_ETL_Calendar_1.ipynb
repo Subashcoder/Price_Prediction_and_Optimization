{
 "cells": [
  {
   "cell_type": "code",
   "execution_count": 1,
   "metadata": {},
   "outputs": [],
   "source": [
    "import numpy as np\n",
    "import pandas as pd\n",
    "import matplotlib.pyplot as plt"
   ]
  },
  {
   "cell_type": "code",
   "execution_count": 2,
   "metadata": {},
   "outputs": [
    {
     "name": "stderr",
     "output_type": "stream",
     "text": [
      "C:\\Users\\vidha\\AppData\\Local\\Temp\\ipykernel_25952\\2257960845.py:1: DtypeWarning: Columns (4) have mixed types. Specify dtype option on import or set low_memory=False.\n",
      "  df=pd.read_csv(r\"D:\\Big Data Analytics- Sem 3\\Capstone Project\\Toronto\\calendar.csv\")\n"
     ]
    }
   ],
   "source": [
    "df=pd.read_csv(r\"D:\\Big Data Analytics- Sem 3\\Capstone Project\\Toronto\\calendar.csv\")"
   ]
  },
  {
   "cell_type": "code",
   "execution_count": 5,
   "metadata": {},
   "outputs": [],
   "source": [
    "def price_cleaning(df,column):\n",
    "    df[column] = pd.to_numeric(df[column].apply(lambda x: str(x).replace('$', '').replace(',', '')), errors='coerce')\n",
    "    return df[column].head()"
   ]
  },
  {
   "cell_type": "code",
   "execution_count": 7,
   "metadata": {},
   "outputs": [
    {
     "data": {
      "text/plain": [
       "0    100.0\n",
       "1    100.0\n",
       "2    100.0\n",
       "3    100.0\n",
       "4    100.0\n",
       "Name: price, dtype: float64"
      ]
     },
     "execution_count": 7,
     "metadata": {},
     "output_type": "execute_result"
    }
   ],
   "source": [
    "# Converting the price in calendar_df\n",
    "price_cleaning(df,'price')"
   ]
  },
  {
   "cell_type": "code",
   "execution_count": 9,
   "metadata": {},
   "outputs": [
    {
     "data": {
      "text/html": [
       "<div>\n",
       "<style scoped>\n",
       "    .dataframe tbody tr th:only-of-type {\n",
       "        vertical-align: middle;\n",
       "    }\n",
       "\n",
       "    .dataframe tbody tr th {\n",
       "        vertical-align: top;\n",
       "    }\n",
       "\n",
       "    .dataframe thead th {\n",
       "        text-align: right;\n",
       "    }\n",
       "</style>\n",
       "<table border=\"1\" class=\"dataframe\">\n",
       "  <thead>\n",
       "    <tr style=\"text-align: right;\">\n",
       "      <th></th>\n",
       "      <th>listing_id</th>\n",
       "      <th>date</th>\n",
       "      <th>available</th>\n",
       "      <th>price</th>\n",
       "      <th>adjusted_price</th>\n",
       "      <th>minimum_nights</th>\n",
       "      <th>maximum_nights</th>\n",
       "      <th>month</th>\n",
       "    </tr>\n",
       "  </thead>\n",
       "  <tbody>\n",
       "    <tr>\n",
       "      <th>0</th>\n",
       "      <td>146601</td>\n",
       "      <td>2024-06-11</td>\n",
       "      <td>f</td>\n",
       "      <td>100.0</td>\n",
       "      <td>NaN</td>\n",
       "      <td>28.0</td>\n",
       "      <td>1125.0</td>\n",
       "      <td>2024-06</td>\n",
       "    </tr>\n",
       "    <tr>\n",
       "      <th>1</th>\n",
       "      <td>146601</td>\n",
       "      <td>2024-06-12</td>\n",
       "      <td>f</td>\n",
       "      <td>100.0</td>\n",
       "      <td>NaN</td>\n",
       "      <td>28.0</td>\n",
       "      <td>1125.0</td>\n",
       "      <td>2024-06</td>\n",
       "    </tr>\n",
       "    <tr>\n",
       "      <th>2</th>\n",
       "      <td>146601</td>\n",
       "      <td>2024-06-13</td>\n",
       "      <td>f</td>\n",
       "      <td>100.0</td>\n",
       "      <td>NaN</td>\n",
       "      <td>28.0</td>\n",
       "      <td>1125.0</td>\n",
       "      <td>2024-06</td>\n",
       "    </tr>\n",
       "    <tr>\n",
       "      <th>3</th>\n",
       "      <td>146601</td>\n",
       "      <td>2024-06-14</td>\n",
       "      <td>f</td>\n",
       "      <td>100.0</td>\n",
       "      <td>NaN</td>\n",
       "      <td>28.0</td>\n",
       "      <td>1125.0</td>\n",
       "      <td>2024-06</td>\n",
       "    </tr>\n",
       "    <tr>\n",
       "      <th>4</th>\n",
       "      <td>146601</td>\n",
       "      <td>2024-06-15</td>\n",
       "      <td>f</td>\n",
       "      <td>100.0</td>\n",
       "      <td>NaN</td>\n",
       "      <td>28.0</td>\n",
       "      <td>1125.0</td>\n",
       "      <td>2024-06</td>\n",
       "    </tr>\n",
       "    <tr>\n",
       "      <th>...</th>\n",
       "      <td>...</td>\n",
       "      <td>...</td>\n",
       "      <td>...</td>\n",
       "      <td>...</td>\n",
       "      <td>...</td>\n",
       "      <td>...</td>\n",
       "      <td>...</td>\n",
       "      <td>...</td>\n",
       "    </tr>\n",
       "    <tr>\n",
       "      <th>7706972</th>\n",
       "      <td>790887</td>\n",
       "      <td>2025-06-06</td>\n",
       "      <td>f</td>\n",
       "      <td>84.0</td>\n",
       "      <td>NaN</td>\n",
       "      <td>1.0</td>\n",
       "      <td>14.0</td>\n",
       "      <td>2025-06</td>\n",
       "    </tr>\n",
       "    <tr>\n",
       "      <th>7706973</th>\n",
       "      <td>790887</td>\n",
       "      <td>2025-06-07</td>\n",
       "      <td>f</td>\n",
       "      <td>84.0</td>\n",
       "      <td>NaN</td>\n",
       "      <td>1.0</td>\n",
       "      <td>14.0</td>\n",
       "      <td>2025-06</td>\n",
       "    </tr>\n",
       "    <tr>\n",
       "      <th>7706974</th>\n",
       "      <td>790887</td>\n",
       "      <td>2025-06-08</td>\n",
       "      <td>f</td>\n",
       "      <td>84.0</td>\n",
       "      <td>NaN</td>\n",
       "      <td>1.0</td>\n",
       "      <td>14.0</td>\n",
       "      <td>2025-06</td>\n",
       "    </tr>\n",
       "    <tr>\n",
       "      <th>7706975</th>\n",
       "      <td>790887</td>\n",
       "      <td>2025-06-09</td>\n",
       "      <td>f</td>\n",
       "      <td>84.0</td>\n",
       "      <td>NaN</td>\n",
       "      <td>1.0</td>\n",
       "      <td>14.0</td>\n",
       "      <td>2025-06</td>\n",
       "    </tr>\n",
       "    <tr>\n",
       "      <th>7706976</th>\n",
       "      <td>790887</td>\n",
       "      <td>2025-06-10</td>\n",
       "      <td>f</td>\n",
       "      <td>84.0</td>\n",
       "      <td>NaN</td>\n",
       "      <td>1.0</td>\n",
       "      <td>14.0</td>\n",
       "      <td>2025-06</td>\n",
       "    </tr>\n",
       "  </tbody>\n",
       "</table>\n",
       "<p>7706977 rows × 8 columns</p>\n",
       "</div>"
      ],
      "text/plain": [
       "         listing_id       date available  price adjusted_price  \\\n",
       "0            146601 2024-06-11         f  100.0            NaN   \n",
       "1            146601 2024-06-12         f  100.0            NaN   \n",
       "2            146601 2024-06-13         f  100.0            NaN   \n",
       "3            146601 2024-06-14         f  100.0            NaN   \n",
       "4            146601 2024-06-15         f  100.0            NaN   \n",
       "...             ...        ...       ...    ...            ...   \n",
       "7706972      790887 2025-06-06         f   84.0            NaN   \n",
       "7706973      790887 2025-06-07         f   84.0            NaN   \n",
       "7706974      790887 2025-06-08         f   84.0            NaN   \n",
       "7706975      790887 2025-06-09         f   84.0            NaN   \n",
       "7706976      790887 2025-06-10         f   84.0            NaN   \n",
       "\n",
       "         minimum_nights  maximum_nights    month  \n",
       "0                  28.0          1125.0  2024-06  \n",
       "1                  28.0          1125.0  2024-06  \n",
       "2                  28.0          1125.0  2024-06  \n",
       "3                  28.0          1125.0  2024-06  \n",
       "4                  28.0          1125.0  2024-06  \n",
       "...                 ...             ...      ...  \n",
       "7706972             1.0            14.0  2025-06  \n",
       "7706973             1.0            14.0  2025-06  \n",
       "7706974             1.0            14.0  2025-06  \n",
       "7706975             1.0            14.0  2025-06  \n",
       "7706976             1.0            14.0  2025-06  \n",
       "\n",
       "[7706977 rows x 8 columns]"
      ]
     },
     "execution_count": 9,
     "metadata": {},
     "output_type": "execute_result"
    }
   ],
   "source": [
    "# convert the date column to datetime format\n",
    "df['date'] = pd.to_datetime(df['date'])\n",
    "\n",
    "# extract the month from the date column\n",
    "df['month'] = df['date'].dt.strftime('%Y-%m')\n",
    "\n",
    "df"
   ]
  },
  {
   "cell_type": "code",
   "execution_count": null,
   "metadata": {},
   "outputs": [],
   "source": [
    "# delete the date column\n",
    "df = df.drop('date', axis=1)\n",
    "\n",
    "# delete duplicate rows\n",
    "df = df.drop_duplicates()"
   ]
  },
  {
   "cell_type": "code",
   "execution_count": 16,
   "metadata": {},
   "outputs": [
    {
     "data": {
      "text/plain": [
       "adjusted_price\n",
       "$1,300.00    25\n",
       "$1,750.00    15\n",
       "$8,000.00    13\n",
       "$585.00      13\n",
       "$745.00      13\n",
       "$1,217.00    10\n",
       "$549.00       3\n",
       "$799.00       2\n",
       "$999.00       2\n",
       "$699.00       1\n",
       "$1,099.00     1\n",
       "Name: count, dtype: int64"
      ]
     },
     "execution_count": 16,
     "metadata": {},
     "output_type": "execute_result"
    }
   ],
   "source": [
    "df['adjusted_price'].value_counts()\n"
   ]
  },
  {
   "cell_type": "code",
   "execution_count": 18,
   "metadata": {},
   "outputs": [],
   "source": [
    "df['adjusted_price'] = df['adjusted_price'].fillna(0)"
   ]
  },
  {
   "cell_type": "code",
   "execution_count": 20,
   "metadata": {},
   "outputs": [
    {
     "data": {
      "text/plain": [
       "0      0.0\n",
       "20     0.0\n",
       "51     0.0\n",
       "82     0.0\n",
       "112    0.0\n",
       "Name: adjusted_price, dtype: float64"
      ]
     },
     "execution_count": 20,
     "metadata": {},
     "output_type": "execute_result"
    }
   ],
   "source": [
    "# Converting the price in calendar_df\n",
    "price_cleaning(df,'adjusted_price')"
   ]
  },
  {
   "cell_type": "code",
   "execution_count": 22,
   "metadata": {},
   "outputs": [],
   "source": [
    "# replace 't' with 1 and else with 0 in the 'available' column\n",
    "df['available'] = df['available'].replace({'t': 1, 'f': 0})\n",
    "\n",
    "# change the dtype of the'month' column to datetime\n",
    "df['month'] = pd.to_datetime(df['month'])"
   ]
  },
  {
   "cell_type": "code",
   "execution_count": 23,
   "metadata": {},
   "outputs": [
    {
     "name": "stdout",
     "output_type": "stream",
     "text": [
      "<class 'pandas.core.frame.DataFrame'>\n",
      "Index: 334714 entries, 0 to 7706967\n",
      "Data columns (total 7 columns):\n",
      " #   Column          Non-Null Count   Dtype         \n",
      "---  ------          --------------   -----         \n",
      " 0   listing_id      334714 non-null  int64         \n",
      " 1   available       334714 non-null  int64         \n",
      " 2   price           334714 non-null  float64       \n",
      " 3   adjusted_price  334714 non-null  float64       \n",
      " 4   minimum_nights  334711 non-null  float64       \n",
      " 5   maximum_nights  334711 non-null  float64       \n",
      " 6   month           334714 non-null  datetime64[ns]\n",
      "dtypes: datetime64[ns](1), float64(4), int64(2)\n",
      "memory usage: 20.4 MB\n"
     ]
    }
   ],
   "source": [
    "df.info()"
   ]
  },
  {
   "cell_type": "code",
   "execution_count": 24,
   "metadata": {},
   "outputs": [],
   "source": [
    "df.to_csv(\"D:\\Big Data Analytics- Sem 3\\Capstone Project\\Toronto\\Milestone1&2\\Calendar_groupby_month.csv\", index=False)"
   ]
  }
 ],
 "metadata": {
  "kernelspec": {
   "display_name": "Python 3",
   "language": "python",
   "name": "python3"
  },
  "language_info": {
   "codemirror_mode": {
    "name": "ipython",
    "version": 3
   },
   "file_extension": ".py",
   "mimetype": "text/x-python",
   "name": "python",
   "nbconvert_exporter": "python",
   "pygments_lexer": "ipython3",
   "version": "3.11.6"
  }
 },
 "nbformat": 4,
 "nbformat_minor": 2
}
