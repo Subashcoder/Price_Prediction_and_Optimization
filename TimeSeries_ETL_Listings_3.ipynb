{
 "cells": [
  {
   "cell_type": "code",
   "execution_count": 1,
   "metadata": {},
   "outputs": [],
   "source": [
    "import numpy as np\n",
    "import pandas as pd\n",
    "import matplotlib.pyplot as plt"
   ]
  },
  {
   "cell_type": "code",
   "execution_count": 2,
   "metadata": {},
   "outputs": [],
   "source": [
    "df=pd.read_csv(r\"D:\\Big Data Analytics- Sem 3\\Capstone Project\\Toronto\\Milestone1&2\\listing_clean_2.csv\")"
   ]
  },
  {
   "cell_type": "code",
   "execution_count": 3,
   "metadata": {},
   "outputs": [],
   "source": [
    "df['has_availability'] = df['availability_365'].apply(lambda x: 1 if x > 0 else 0)"
   ]
  },
  {
   "cell_type": "code",
   "execution_count": 4,
   "metadata": {},
   "outputs": [],
   "source": [
    "df['review_scores_rating'] = df['review_scores_rating'].fillna(0)"
   ]
  },
  {
   "cell_type": "code",
   "execution_count": 5,
   "metadata": {},
   "outputs": [],
   "source": [
    "df['instant_bookable'] = df['instant_bookable'].map({'t': 1, 'f': 0})"
   ]
  },
  {
   "cell_type": "code",
   "execution_count": 6,
   "metadata": {},
   "outputs": [
    {
     "name": "stdout",
     "output_type": "stream",
     "text": [
      "<class 'pandas.core.frame.DataFrame'>\n",
      "RangeIndex: 21114 entries, 0 to 21113\n",
      "Data columns (total 25 columns):\n",
      " #   Column                          Non-Null Count  Dtype  \n",
      "---  ------                          --------------  -----  \n",
      " 0   id                              21114 non-null  int64  \n",
      " 1   description                     20560 non-null  object \n",
      " 2   neighborhood_overview           11111 non-null  object \n",
      " 3   host_id                         21114 non-null  int64  \n",
      " 4   host_about                      9846 non-null   object \n",
      " 5   accommodates                    21114 non-null  int64  \n",
      " 6   amenities                       21114 non-null  object \n",
      " 7   price                           15903 non-null  object \n",
      " 8   minimum_nights                  21114 non-null  int64  \n",
      " 9   maximum_nights                  21114 non-null  int64  \n",
      " 10  minimum_nights_avg_ntm          21114 non-null  float64\n",
      " 11  maximum_nights_avg_ntm          21114 non-null  float64\n",
      " 12  has_availability                21114 non-null  int64  \n",
      " 13  availability_365                21114 non-null  int64  \n",
      " 14  number_of_reviews               21114 non-null  int64  \n",
      " 15  review_scores_rating            21114 non-null  float64\n",
      " 16  instant_bookable                21114 non-null  int64  \n",
      " 17  calculated_host_listings_count  21114 non-null  int64  \n",
      " 18  new_host                        21114 non-null  int64  \n",
      " 19  host_response_score             21114 non-null  int64  \n",
      " 20  host_score                      21114 non-null  int64  \n",
      " 21  property                        21114 non-null  int64  \n",
      " 22  neighbourhood                   21114 non-null  int64  \n",
      " 23  bathrooms                       21114 non-null  int64  \n",
      " 24  count_amenities                 21114 non-null  int64  \n",
      "dtypes: float64(3), int64(17), object(5)\n",
      "memory usage: 4.0+ MB\n"
     ]
    }
   ],
   "source": [
    "df.info()"
   ]
  },
  {
   "cell_type": "markdown",
   "metadata": {},
   "source": [
    "As of now, for the null values of review_scores_rating , we are filling those with zero. later to improve the metrices we can try filling the null values with the avg rating of that host_id, if there are values in num of reviews columns, if not then zero      \n",
    "If necessary, we can also use reviews.csv to generate our own scores for that listing_id if there is review column."
   ]
  },
  {
   "cell_type": "code",
   "execution_count": 7,
   "metadata": {},
   "outputs": [],
   "source": [
    "# specify the columns to extract\n",
    "columns = ['accommodates',\n",
    "         'number_of_reviews',\n",
    "         'review_scores_rating',\n",
    "         'instant_bookable',\n",
    "         'calculated_host_listings_count',\n",
    "         'new_host',\n",
    "         'host_response_score',\n",
    "         'minimum_nights',\n",
    "         'maximum_nights',\n",
    "         'minimum_nights_avg_ntm',\n",
    "         'maximum_nights_avg_ntm',\n",
    "         'availability_365',\n",
    "         'host_score',\n",
    "         'property',\n",
    "         'neighbourhood',\n",
    "         'bathrooms',\n",
    "         'count_amenities',\n",
    "         'id']\n",
    "\n",
    "# extract the specified columns into a new DataFrame\n",
    "new_df = df[columns]\n",
    "\n",
    "# write the new DataFrame to a new CSV file\n",
    "new_df.to_csv(\"D:\\Big Data Analytics- Sem 3\\Capstone Project\\Toronto\\Milestone1&2\\Columns_to_attach_calendar.csv\", index=False)"
   ]
  }
 ],
 "metadata": {
  "kernelspec": {
   "display_name": "Python 3",
   "language": "python",
   "name": "python3"
  },
  "language_info": {
   "codemirror_mode": {
    "name": "ipython",
    "version": 3
   },
   "file_extension": ".py",
   "mimetype": "text/x-python",
   "name": "python",
   "nbconvert_exporter": "python",
   "pygments_lexer": "ipython3",
   "version": "3.11.6"
  }
 },
 "nbformat": 4,
 "nbformat_minor": 2
}
