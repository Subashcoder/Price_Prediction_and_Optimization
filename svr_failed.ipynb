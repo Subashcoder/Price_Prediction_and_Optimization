{
 "cells": [
  {
   "cell_type": "code",
   "execution_count": 13,
   "metadata": {},
   "outputs": [],
   "source": [
    "import pandas as pd\n",
    "from sklearn import svm\n",
    "from sklearn.model_selection import train_test_split, GridSearchCV\n",
    "from sklearn.metrics import mean_squared_error, mean_absolute_error, r2_score\n",
    "from sklearn.preprocessing import StandardScaler\n",
    "from sklearn.model_selection import TimeSeriesSplit, GridSearchCV\n",
    "\n"
   ]
  },
  {
   "cell_type": "code",
   "execution_count": 14,
   "metadata": {},
   "outputs": [],
   "source": [
    "df=pd.read_csv(r\"C:\\Users\\prabh\\Downloads\\data\\listing_1.csv\")"
   ]
  },
  {
   "cell_type": "code",
   "execution_count": 15,
   "metadata": {},
   "outputs": [],
   "source": [
    "# Convert month column to the desired format (YYYY-MM-DD)\n",
    "df['month'] = pd.to_datetime(df['month'], format='%Y-%m-%d')"
   ]
  },
  {
   "cell_type": "code",
   "execution_count": 16,
   "metadata": {},
   "outputs": [],
   "source": [
    "df['data_year'] = df['month'].dt.year\n",
    "df['data_month'] = df['month'].dt.month\n",
    "\n",
    "# Drop the original datetime column\n",
    "df = df.drop(columns=['month'])"
   ]
  },
  {
   "cell_type": "code",
   "execution_count": 17,
   "metadata": {},
   "outputs": [],
   "source": [
    "# Drop rows with missing values\n",
    "df = df.dropna(subset=['bedrooms','bathrooms_text', 'beds'])"
   ]
  },
  {
   "cell_type": "code",
   "execution_count": 18,
   "metadata": {},
   "outputs": [],
   "source": [
    "# Create 'Price_Range' column\n",
    "bins = [0, 150, 300, 500, 1000, df['price'].max()]\n",
    "labels = ['Very Low', 'Low', 'Medium', 'High', 'Very High']\n",
    "df['Price_Range'] = pd.cut(df['price'], bins=bins, labels=labels, include_lowest=True)\n",
    "\n",
    "# Split the dataset into five DataFrames\n",
    "df_1 = df[df['Price_Range'] == 'Very Low']\n",
    "df_2 = df[df['Price_Range'] == 'Low']\n",
    "df_3 = df[df['Price_Range'] == 'Medium']\n",
    "df_4 = df[df['Price_Range'] == 'High']\n",
    "df_5 = df[df['Price_Range'] == 'Very High']\n",
    "\n",
    "# You can store these DataFrames in a dictionary for convenience\n",
    "price_range_dfs = {\n",
    "  'Very Low': df_1,\n",
    "  'Low': df_2,\n",
    "  'Medium': df_3,\n",
    "  'High': df_4,\n",
    "  'Very High': df_5\n",
    "}"
   ]
  },
  {
   "cell_type": "code",
   "execution_count": 19,
   "metadata": {},
   "outputs": [],
   "source": [
    "features = [\n",
    "  'accommodates', 'bathrooms_text', 'bedrooms', 'beds',\n",
    "  'minimum_nights', 'maximum_nights', 'minimum_nights_avg_ntm',\n",
    "  'maximum_nights_avg_ntm', 'availability_30', 'number_of_reviews',\n",
    "  'review_scores_rating', 'instant_bookable', 'calculated_host_listings_count',\n",
    "  'property', 'new_host', 'host_response_score', 'host_score',\n",
    "  'property_description_score', 'count_amenities'\n",
    "  ,'data_year', 'data_month'\n",
    "]"
   ]
  },
  {
   "cell_type": "code",
   "execution_count": 20,
   "metadata": {},
   "outputs": [
    {
     "data": {
      "text/plain": [
       "'# Function to train and evaluate an SVR model\\ndef train_svr(df):\\n    X = df[features]\\n    y = df[\\'price\\']\\n\\n    # Scale features\\n    scaler = StandardScaler()\\n    X_scaled = scaler.fit_transform(X)\\n\\n    # Define hyperparameter tuning space\\n    param_grid = {\\n        \\'kernel\\': [\\'linear\\', \\'rbf\\', \\'poly\\'],\\n        \\'C\\': [1, 10, 100],\\n        \\'epsilon\\': [0.01, 0.1, 1]\\n    }\\n\\n    # Initialize SVR model\\n    svr = svm.SVR()\\n\\n    # Time Series Split: Preserve temporal ordering\\n    tscv = TimeSeriesSplit(n_splits=5)\\n\\n    # Perform hyperparameter tuning with GridSearchCV using TimeSeriesSplit\\n    grid_svr = GridSearchCV(estimator=svr, param_grid=param_grid, cv=tscv, n_jobs=-1)\\n    grid_svr.fit(X_scaled, y)\\n\\n    # Evaluate the best model on the last split (as a pseudo-test set)\\n    last_fold_idx = list(grid_svr.cv_results_[\\'split0_test\\'].keys())[-1]\\n    X_last_fold = X_scaled[grid_svr.cv_results_[\\'split0_test\\'][last_fold_idx]]\\n    y_last_fold = y[grid_svr.cv_results_[\\'split0_test\\'][last_fold_idx]]\\n    y_pred_last_fold = grid_svr.predict(X_last_fold)\\n\\n    mse = mean_squared_error(y_last_fold, y_pred_last_fold)\\n    mae = mean_absolute_error(y_last_fold, y_pred_last_fold)\\n    r2 = r2_score(y_last_fold, y_pred_last_fold)\\n\\n    print(f\"Best Parameters: {grid_svr.best_params_}\")\\n    print(f\"MSE: {mse:.2f}, MAE: {mae:.2f}, R2 Score: {r2:.2f}\")\\n    print()\\n\\n# Train and evaluate SVR models for each price range\\nfor price_range, df in price_range_dfs.items():\\n    if not df.empty:  # Ensure the DataFrame is not empty\\n        print(f\"--- {price_range} ---\")\\n        train_svr(df)\\n    else:\\n        print(f\"--- {price_range} ---\")\\n        print(\"No data available in this price range.\")\\n        print()\\n        '"
      ]
     },
     "execution_count": 20,
     "metadata": {},
     "output_type": "execute_result"
    }
   ],
   "source": [
    "\"\"\"# Function to train and evaluate an SVR model\n",
    "def train_svr(df):\n",
    "    X = df[features]\n",
    "    y = df['price']\n",
    "\n",
    "    # Scale features\n",
    "    scaler = StandardScaler()\n",
    "    X_scaled = scaler.fit_transform(X)\n",
    "\n",
    "    # Define hyperparameter tuning space\n",
    "    param_grid = {\n",
    "        'kernel': ['linear', 'rbf', 'poly'],\n",
    "        'C': [1, 10, 100],\n",
    "        'epsilon': [0.01, 0.1, 1]\n",
    "    }\n",
    "\n",
    "    # Initialize SVR model\n",
    "    svr = svm.SVR()\n",
    "\n",
    "    # Time Series Split: Preserve temporal ordering\n",
    "    tscv = TimeSeriesSplit(n_splits=5)\n",
    "\n",
    "    # Perform hyperparameter tuning with GridSearchCV using TimeSeriesSplit\n",
    "    grid_svr = GridSearchCV(estimator=svr, param_grid=param_grid, cv=tscv, n_jobs=-1)\n",
    "    grid_svr.fit(X_scaled, y)\n",
    "\n",
    "    # Evaluate the best model on the last split (as a pseudo-test set)\n",
    "    last_fold_idx = list(grid_svr.cv_results_['split0_test'].keys())[-1]\n",
    "    X_last_fold = X_scaled[grid_svr.cv_results_['split0_test'][last_fold_idx]]\n",
    "    y_last_fold = y[grid_svr.cv_results_['split0_test'][last_fold_idx]]\n",
    "    y_pred_last_fold = grid_svr.predict(X_last_fold)\n",
    "\n",
    "    mse = mean_squared_error(y_last_fold, y_pred_last_fold)\n",
    "    mae = mean_absolute_error(y_last_fold, y_pred_last_fold)\n",
    "    r2 = r2_score(y_last_fold, y_pred_last_fold)\n",
    "\n",
    "    print(f\"Best Parameters: {grid_svr.best_params_}\")\n",
    "    print(f\"MSE: {mse:.2f}, MAE: {mae:.2f}, R2 Score: {r2:.2f}\")\n",
    "    print()\n",
    "\n",
    "# Train and evaluate SVR models for each price range\n",
    "for price_range, df in price_range_dfs.items():\n",
    "    if not df.empty:  # Ensure the DataFrame is not empty\n",
    "        print(f\"--- {price_range} ---\")\n",
    "        train_svr(df)\n",
    "    else:\n",
    "        print(f\"--- {price_range} ---\")\n",
    "        print(\"No data available in this price range.\")\n",
    "        print()\n",
    "        \"\"\"\n"
   ]
  },
  {
   "cell_type": "code",
   "execution_count": 21,
   "metadata": {},
   "outputs": [],
   "source": [
    "# Function to train and evaluate an SVR model\n",
    "def train_svr(df):\n",
    "    X = df[features]\n",
    "    y = df['price']\n",
    "\n",
    "    # Scale features\n",
    "    scaler = StandardScaler()\n",
    "    X_scaled = scaler.fit_transform(X)\n",
    "\n",
    "    # Initialize SVR model with default hyperparameters\n",
    "    svr = svm.SVR()\n",
    "\n",
    "    # Time Series Split: Preserve temporal ordering\n",
    "    tscv = TimeSeriesSplit(n_splits=5)\n",
    "\n",
    "    # Fit the SVR model using TimeSeriesSplit\n",
    "    svr.fit(X_scaled, y)\n",
    "\n",
    "    # Evaluate the model on the last split (as a pseudo-test set)\n",
    "    last_fold_idx = list(tscv.split(X_scaled)).pop()\n",
    "    X_last_fold = X_scaled[last_fold_idx[1]]\n",
    "    y_last_fold = y[last_fold_idx[1]]\n",
    "    y_pred_last_fold = svr.predict(X_last_fold)\n",
    "\n",
    "    mse = mean_squared_error(y_last_fold, y_pred_last_fold)\n",
    "    mae = mean_absolute_error(y_last_fold, y_pred_last_fold)\n",
    "    r2 = r2_score(y_last_fold, y_pred_last_fold)\n",
    "\n",
    "    print(f\"MSE: {mse:.2f}, MAE: {mae:.2f}, R2 Score: {r2:.2f}\")\n",
    "    print()\n"
   ]
  },
  {
   "cell_type": "code",
   "execution_count": null,
   "metadata": {},
   "outputs": [
    {
     "name": "stdout",
     "output_type": "stream",
     "text": [
      "--- Very Low ---\n"
     ]
    }
   ],
   "source": [
    "# Train and evaluate SVR models for each price range\n",
    "for price_range, df in price_range_dfs.items():\n",
    "    if not df.empty:  # Ensure the DataFrame is not empty\n",
    "        print(f\"--- {price_range} ---\")\n",
    "        train_svr(df)\n",
    "    else:\n",
    "        print(f\"--- {price_range} ---\")\n",
    "        print(\"No data available in this price range.\")\n",
    "        print()"
   ]
  },
  {
   "cell_type": "code",
   "execution_count": null,
   "metadata": {},
   "outputs": [],
   "source": []
  }
 ],
 "metadata": {
  "kernelspec": {
   "display_name": "Python 3",
   "language": "python",
   "name": "python3"
  },
  "language_info": {
   "codemirror_mode": {
    "name": "ipython",
    "version": 3
   },
   "file_extension": ".py",
   "mimetype": "text/x-python",
   "name": "python",
   "nbconvert_exporter": "python",
   "pygments_lexer": "ipython3",
   "version": "3.11.6"
  }
 },
 "nbformat": 4,
 "nbformat_minor": 2
}
